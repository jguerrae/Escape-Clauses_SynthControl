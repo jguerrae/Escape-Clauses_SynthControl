{
 "cells": [
  {
   "cell_type": "markdown",
   "metadata": {},
   "source": [
    "# RESUMEN TEÓRICO: Control sintético\n",
    "\n",
    "**Metodología--¿Qué estamos estimando?**\n",
    "\n",
    "- Para cada unidad $j$ y tiempo $t$, sea $Y^N_{jt}$ el estado potencial de la variable de tratamiento en ausencia de tratamiento. Similarmente, para $j = 1$ y $t > T_0$, denote por $Y'_{1t}$ el estado potencial de la unidad 1 cuando es tratada.\n",
    "\n",
    "- El efecto de interés es entonces\n",
    "  $$ \\tau_{1t} = Y'_{1t} - Y^N_{1t}; \\quad t > T_0 $$\n",
    "\n",
    "- Sabemos que para $j = 1$ y $t > T_0$ tenemos que $Y'_{1t} = Y_{1t}$, La gran pregunta entonces es **cómo encontramos una aproximación para** $Y^N_{1t}$.\n"
   ]
  },
  {
   "cell_type": "markdown",
   "metadata": {},
   "source": [
    "### Estimación-Contrafactual\n",
    "\n",
    "- Queremos aproximar la variable dependiente de la unidad tratada en ausencia de tratamiento usando las unidades no tratadas, a modo de crear una unidad $j = 1$ sintética. De ahí que, debemos escoger pesos $W = [w_2 \\ldots w_{J+1}]^T$, de manera que el clon de $j = 1$ sea una combinación convexa de las unidades sin tratar usando esos pesos.\n",
    "\n",
    "- Dado un vector de pesos $W = [w_2 \\ldots w_{J+1}]^T$, podemos construir el resultado potencial sintético como\n",
    "  $$ \\hat{Y}^N_{1t} = \\sum_{j=2}^{J+1} w_j Y_{j,t} $$\n",
    "\n",
    "y, naturalmente, el efecto causal estimado como\n",
    "  $$ \\hat{\\tau}_t = Y_{1,t} - \\hat{Y}^N_{1t} $$\n"
   ]
  },
  {
   "cell_type": "markdown",
   "metadata": {},
   "source": [
    "#### Estimación-¿Cómo elegimos los pesos de una manera óptima?\n",
    "\n",
    "- El siguiente paso es elegir los pesos \\( W \\). Queremos elegir los pesos de manera que la unidad sintética replique de la mejor manera a la unidad tratada antes del tratamiento.\n",
    "\n",
    "- Abadie, Diamond & Hainmuller (2010) proponen minimizar una norma pesada:\n",
    "  $$ W^*(V) = \\underset{w}{\\operatorname{argmin}} \\left\\| X_1 - X_0 W \\right\\|_V = \\sqrt{(X_1 - X_0 W)'V(X_1 - X_0 W)} $$\n",
    "  donde \\( V = [v_1, \\ldots , v_k] \\) son los pesos dados a cada característica predeterminada en la predicción.\n",
    "\n",
    "- Los pesos \\( V \\) deben interpretarse como la relevancia de cada variable predictora en la definición del control sintético."
   ]
  },
  {
   "cell_type": "markdown",
   "metadata": {},
   "source": [
    "\n",
    "- Para cada elección de los pesos de la norma \\( V \\), podemos obtener unos pesos óptimos \\( W^*(V) \\). ¿Cómo elegimos \\( V \\)?\n",
    "\n",
    "- Abadie & Gardeazabal (2003) sugirieron que la manera de dilucidar cuáles características deben recibir mayor peso son aquellas que mejor nos ayudan a reproducir la evolución de la unidad en el tiempo.\n",
    "\n",
    "- Por ello, sugieren minimizar el error de predicción cuadrático medio (MSPE) en el período pre-tratamiento, esto es,\n",
    "  $$ V^* = \\underset{V}{\\operatorname{argmin}} \\sum_{t \\in T_0} \\left( Y_{1,t} - w_2(V) Y_{2t} - \\ldots - w_{J+1}(V) Y_{J+1,t} \\right)^2 $$\n",
    "  donde \\( T_0 \\subseteq \\{1, 2, \\ldots , T_0\\} \\) es un conjunto de períodos previos al tratamiento. Idealmente no se deben tomar todos, para evaluar si la elección es confiable o no.\n"
   ]
  },
  {
   "cell_type": "markdown",
   "metadata": {},
   "source": [
    "### Resumen\n",
    "\n",
    "Para realizar la metodología de control sintético, Abadie (2021) sugiere lo siguiente\n",
    "\n",
    "1. Dividir los períodos de pre-tratamiento en 2: uno de entrenamiento y uno de validación. Supongamos que $T_0$ es par, entonces podemos tomar los períodos $t = 1, \\ldots, t_0 = \\frac{T_0}{2}$ como validación y $t = t_0 + 1, \\ldots, T_0$ como los de entrenamiento.\n",
    "\n",
    "2. Para cada valor de $V$, encuentre los pesos $\\hat{w}_2(V), \\ldots, \\hat{w}_{J+1}(V)$ usando los predictores.\n",
    "\n",
    "3. Determine el valor $V^*$ que minimiza el MSPE para los períodos de entrenamiento.\n",
    "\n",
    "4. Usando los pesos $\\hat{w}_2(V^*), \\ldots, \\hat{w}_{J+1}(V^*)$, calcule el efecto del tratamiento $\\hat{\\tau}_1$.\n",
    "\n"
   ]
  },
  {
   "cell_type": "markdown",
   "metadata": {},
   "source": [
    "### Supuestos de la metodología\n",
    "\n",
    "Para que la metodología de control sintético recupere el efecto deseado necesitamos el cumplimiento de **cuatro supuestos**:\n",
    "\n",
    "1. Sólamante la unidad tratada es afectada por la política (no spillovers).\n",
    "2. La política no tiene efecto en los periodos previos al tratamiento (no efectos anticipatorios)\n",
    "3. Se puede construir un control sintético a partir de las unidades de control. (Las características de la unidad tratada pueden construirse como combinación convexa de las características de las unidades no tratadas).\n",
    "4. No hay mas eventos que puedan afectar la variable dependiente ocurriendo en el mismo periodo de tratamiento.\n"
   ]
  },
  {
   "cell_type": "markdown",
   "metadata": {},
   "source": [
    "### Inferencia\n",
    "\n",
    "Abadie et al. (2010) recomiendan los siguientes pasos para calcular los p-valores estandarizados:\n",
    "\n",
    "1. Construir el control sintético para el tratamiento y para cada uno de los posibles controles del pool de donantes.\n",
    "2. Para cada unidad \\( j \\) en \\( \\{1,2,\\ldots,J+1\\} \\) construir el RMSPE pre y post tratamiento.\n",
    "3. Para cada unidad \\( j \\) construir \\( \\text{Ratio}_j = \\frac{\\text{RMSPE}_{\\text{post}, j}}{\\text{RMSPE}_{\\text{pre}, j}} \\).\n",
    "4. El p-valor es la probabilidad de que el efecto estimado del tratamiento sea resultado de algo aleatorio, entonces el estimador de frecuencias está definido por:\n",
    "   $$ \\text{P-valor} = \\frac{\\#\\text{ de ratios mayores que }\\text{Ratio}_{j=1,\\text{Tratamiento}}}{\\#\\text{ de placebos}} $$\n"
   ]
  },
  {
   "cell_type": "markdown",
   "metadata": {},
   "source": [
    "## Situación actual"
   ]
  },
  {
   "cell_type": "markdown",
   "metadata": {},
   "source": [
    "Mostrar paper de embajada US y enviados por Caro para familiaración"
   ]
  },
  {
   "cell_type": "markdown",
   "metadata": {},
   "source": [
    "Cosas para comentar:\n",
    "\n",
    "1. Para este caso es mejor R que Python. Abadie et al (2003,2011,2014) diseñaron directamente el paquete. En Python el diseño es de Microsfot y está enfocado más a Data Science. R sigue sigue siendo más flexible que Stata a la hora de manipular la data.\n",
    "\n",
    "2. La idea hoy es mostrar el código, resultados preliminares (posibles outputs para el paper) y discutir:\n",
    "- 2.1 La inclusión de las covariables (ver Excel con FISLAC + Literatura). Por ejemplo, si tomamos las variables de la base de los indices tendriamos una muestra relativamente más corta, de 30 paises LAC a 12.\n",
    "- 2.2 Inlucsión de qué paises como potenciales controles: ¿LAC? ¿EMDES? \n",
    "- 2.2 Preguntar que pasó exactamente en Perú 2010 para tener claro que efecto estamos obervando, para no combinar cosas."
   ]
  },
  {
   "cell_type": "markdown",
   "metadata": {},
   "source": [
    "CLAVE; ¿QUE PASÓ EN PERÚ? ¿QUE CONTROLES Y VARIABLES TENDREMOS EN CUENTA?"
   ]
  },
  {
   "cell_type": "markdown",
   "metadata": {},
   "source": [
    "https://cran.r-project.org/web/packages/Synth/Synth.pdf"
   ]
  },
  {
   "cell_type": "markdown",
   "metadata": {},
   "source": [
    "(...) p-value can be constructed by estimating in-space placebo effects for each unit in the sample and then calculating the fraction of such effects greater than or equal to the effect estimated for the treated unit"
   ]
  },
  {
   "cell_type": "markdown",
   "metadata": {},
   "source": [
    "## Librerias"
   ]
  },
  {
   "cell_type": "code",
   "execution_count": 13,
   "metadata": {
    "vscode": {
     "languageId": "r"
    }
   },
   "outputs": [],
   "source": [
    "rm(list=ls())\n",
    "library(foreign)\n",
    "library(Synth)\n",
    "library(xtable)"
   ]
  },
  {
   "cell_type": "markdown",
   "metadata": {},
   "source": [
    "## Load data"
   ]
  },
  {
   "cell_type": "code",
   "execution_count": 21,
   "metadata": {
    "vscode": {
     "languageId": "r"
    }
   },
   "outputs": [],
   "source": [
    "# Load Data \n",
    "d <- read.dta(\"dbec1.dta\")"
   ]
  },
  {
   "cell_type": "code",
   "execution_count": 22,
   "metadata": {
    "vscode": {
     "languageId": "r"
    }
   },
   "outputs": [
    {
     "data": {
      "text/html": [
       "<table>\n",
       "<thead><tr><th scope=col>index</th><th scope=col>COUNTRY_NAME</th><th scope=col>WEO_CODE</th><th scope=col>ISO3</th><th scope=col>LAC1</th><th scope=col>LAC2</th><th scope=col>DATE</th><th scope=col>DEBT_GDP</th><th scope=col>DEMOCRACY</th><th scope=col>EXP_GDP</th><th scope=col>REV_GDP</th><th scope=col>WGI_CONTR_CORR</th><th scope=col>WGI_GOV_EFFECT</th></tr></thead>\n",
       "<tbody>\n",
       "\t<tr><td>720       </td><td>Colombia  </td><td>233       </td><td>COL       </td><td>1         </td><td>1         </td><td>2000      </td><td>0.3797218 </td><td>1         </td><td>0.2656817 </td><td>0.2363260 </td><td>-0.3967540</td><td>-0.3215330</td></tr>\n",
       "\t<tr><td>721       </td><td>Colombia  </td><td>233       </td><td>COL       </td><td>1         </td><td>1         </td><td>2001      </td><td>0.4107851 </td><td>1         </td><td>0.2749548 </td><td>0.2478791 </td><td>-0.3174608</td><td>-0.3671415</td></tr>\n",
       "\t<tr><td>722       </td><td>Colombia  </td><td>233       </td><td>COL       </td><td>1         </td><td>1         </td><td>2002      </td><td>0.4752608 </td><td>1         </td><td>0.2806252 </td><td>0.2461172 </td><td>-0.2381676</td><td>-0.4127500</td></tr>\n",
       "\t<tr><td>723       </td><td>Colombia  </td><td>233       </td><td>COL       </td><td>1         </td><td>1         </td><td>2003      </td><td>0.4502134 </td><td>1         </td><td>0.2800285 </td><td>0.2530158 </td><td>-0.1789923</td><td>-0.1526648</td></tr>\n",
       "\t<tr><td>724       </td><td>Colombia  </td><td>233       </td><td>COL       </td><td>1         </td><td>1         </td><td>2004      </td><td>0.4146551 </td><td>1         </td><td>0.2662076 </td><td>0.2531019 </td><td>-0.1289300</td><td>-0.1821401</td></tr>\n",
       "\t<tr><td>725       </td><td>Colombia  </td><td>233       </td><td>COL       </td><td>1         </td><td>1         </td><td>2005      </td><td>0.3853250 </td><td>1         </td><td>0.2588933 </td><td>0.2586856 </td><td>-0.1322573</td><td>-0.1780718</td></tr>\n",
       "</tbody>\n",
       "</table>\n"
      ],
      "text/latex": [
       "\\begin{tabular}{r|lllllllllllll}\n",
       " index & COUNTRY\\_NAME & WEO\\_CODE & ISO3 & LAC1 & LAC2 & DATE & DEBT\\_GDP & DEMOCRACY & EXP\\_GDP & REV\\_GDP & WGI\\_CONTR\\_CORR & WGI\\_GOV\\_EFFECT\\\\\n",
       "\\hline\n",
       "\t 720        & Colombia   & 233        & COL        & 1          & 1          & 2000       & 0.3797218  & 1          & 0.2656817  & 0.2363260  & -0.3967540 & -0.3215330\\\\\n",
       "\t 721        & Colombia   & 233        & COL        & 1          & 1          & 2001       & 0.4107851  & 1          & 0.2749548  & 0.2478791  & -0.3174608 & -0.3671415\\\\\n",
       "\t 722        & Colombia   & 233        & COL        & 1          & 1          & 2002       & 0.4752608  & 1          & 0.2806252  & 0.2461172  & -0.2381676 & -0.4127500\\\\\n",
       "\t 723        & Colombia   & 233        & COL        & 1          & 1          & 2003       & 0.4502134  & 1          & 0.2800285  & 0.2530158  & -0.1789923 & -0.1526648\\\\\n",
       "\t 724        & Colombia   & 233        & COL        & 1          & 1          & 2004       & 0.4146551  & 1          & 0.2662076  & 0.2531019  & -0.1289300 & -0.1821401\\\\\n",
       "\t 725        & Colombia   & 233        & COL        & 1          & 1          & 2005       & 0.3853250  & 1          & 0.2588933  & 0.2586856  & -0.1322573 & -0.1780718\\\\\n",
       "\\end{tabular}\n"
      ],
      "text/markdown": [
       "\n",
       "| index | COUNTRY_NAME | WEO_CODE | ISO3 | LAC1 | LAC2 | DATE | DEBT_GDP | DEMOCRACY | EXP_GDP | REV_GDP | WGI_CONTR_CORR | WGI_GOV_EFFECT |\n",
       "|---|---|---|---|---|---|---|---|---|---|---|---|---|\n",
       "| 720        | Colombia   | 233        | COL        | 1          | 1          | 2000       | 0.3797218  | 1          | 0.2656817  | 0.2363260  | -0.3967540 | -0.3215330 |\n",
       "| 721        | Colombia   | 233        | COL        | 1          | 1          | 2001       | 0.4107851  | 1          | 0.2749548  | 0.2478791  | -0.3174608 | -0.3671415 |\n",
       "| 722        | Colombia   | 233        | COL        | 1          | 1          | 2002       | 0.4752608  | 1          | 0.2806252  | 0.2461172  | -0.2381676 | -0.4127500 |\n",
       "| 723        | Colombia   | 233        | COL        | 1          | 1          | 2003       | 0.4502134  | 1          | 0.2800285  | 0.2530158  | -0.1789923 | -0.1526648 |\n",
       "| 724        | Colombia   | 233        | COL        | 1          | 1          | 2004       | 0.4146551  | 1          | 0.2662076  | 0.2531019  | -0.1289300 | -0.1821401 |\n",
       "| 725        | Colombia   | 233        | COL        | 1          | 1          | 2005       | 0.3853250  | 1          | 0.2588933  | 0.2586856  | -0.1322573 | -0.1780718 |\n",
       "\n"
      ],
      "text/plain": [
       "  index COUNTRY_NAME WEO_CODE ISO3 LAC1 LAC2 DATE DEBT_GDP  DEMOCRACY EXP_GDP  \n",
       "1 720   Colombia     233      COL  1    1    2000 0.3797218 1         0.2656817\n",
       "2 721   Colombia     233      COL  1    1    2001 0.4107851 1         0.2749548\n",
       "3 722   Colombia     233      COL  1    1    2002 0.4752608 1         0.2806252\n",
       "4 723   Colombia     233      COL  1    1    2003 0.4502134 1         0.2800285\n",
       "5 724   Colombia     233      COL  1    1    2004 0.4146551 1         0.2662076\n",
       "6 725   Colombia     233      COL  1    1    2005 0.3853250 1         0.2588933\n",
       "  REV_GDP   WGI_CONTR_CORR WGI_GOV_EFFECT\n",
       "1 0.2363260 -0.3967540     -0.3215330    \n",
       "2 0.2478791 -0.3174608     -0.3671415    \n",
       "3 0.2461172 -0.2381676     -0.4127500    \n",
       "4 0.2530158 -0.1789923     -0.1526648    \n",
       "5 0.2531019 -0.1289300     -0.1821401    \n",
       "6 0.2586856 -0.1322573     -0.1780718    "
      ]
     },
     "metadata": {},
     "output_type": "display_data"
    }
   ],
   "source": [
    "head(d[, 1:13])"
   ]
  },
  {
   "cell_type": "markdown",
   "metadata": {},
   "source": []
  },
  {
   "cell_type": "markdown",
   "metadata": {},
   "source": [
    "## Run synthetic control"
   ]
  },
  {
   "cell_type": "markdown",
   "metadata": {},
   "source": [
    "### Parameters"
   ]
  },
  {
   "cell_type": "code",
   "execution_count": 23,
   "metadata": {
    "vscode": {
     "languageId": "r"
    }
   },
   "outputs": [],
   "source": [
    "year_t0 = 2000 #AÑO AL INICIO\n",
    "year_t1 = 2010 #AÑO ANTES DLE TRATAMIENTO\n",
    "year_t2 = 2021\n",
    "\n",
    "predictors_dp       = c(\"DEBT_GDP\",\"EXP_GDP\")\n",
    "dependent_dp        = \"DEBT_GDP\"\n",
    "id_variable         = which(names(d) == \"WEO_CODE\")\n",
    "time_variable       = which(names(d) == \"DATE\")\n",
    "special_predictors  = list(list(\"REV_GDP\", year_t0:year_t1, c(\"mean\"))) #OTROS PREDICTORES (EN LA MEDIA)\n",
    "treated             = 293 #TRATADO --> PERÚ\n",
    "controls            = setdiff(unique(d$WEO_CODE), treated) #EXLUYENDO AL TRATADO\n",
    "time_predictors     = year_t0:year_t1\n",
    "time_ssr            = year_t0:year_t1\n",
    "names               = which(names(d) == \"ISO3\")\n",
    "time_plot           = year_t0:year_t2"
   ]
  },
  {
   "cell_type": "markdown",
   "metadata": {},
   "source": [
    "### Data preparation"
   ]
  },
  {
   "cell_type": "code",
   "execution_count": 24,
   "metadata": {
    "vscode": {
     "languageId": "r"
    }
   },
   "outputs": [],
   "source": [
    "dataprep.out <-\n",
    "  dataprep(\n",
    "           foo = d,\n",
    "           predictors    = predictors_dp,\n",
    "           dependent     = dependent_dp,\n",
    "           unit.variable = id_variable,\n",
    "           time.variable = time_variable,\n",
    "           special.predictors = special_predictors,\n",
    "           treatment.identifier = treated,\n",
    "           controls.identifier = controls,\n",
    "           time.predictors.prior = time_predictors,\n",
    "           time.optimize.ssr = time_ssr,\n",
    "           unit.names.variable = names,\n",
    "           time.plot = time_plot\n",
    "         )\n"
   ]
  },
  {
   "cell_type": "markdown",
   "metadata": {},
   "source": [
    "### Fit"
   ]
  },
  {
   "cell_type": "code",
   "execution_count": 25,
   "metadata": {
    "vscode": {
     "languageId": "r"
    }
   },
   "outputs": [
    {
     "name": "stdout",
     "output_type": "stream",
     "text": [
      "\n",
      "X1, X0, Z1, Z0 all come directly from dataprep object.\n",
      "\n",
      "\n",
      "**************** \n",
      " searching for synthetic control unit  \n",
      " \n",
      "\n",
      "**************** \n",
      "**************** \n",
      "**************** \n",
      "\n",
      "MSPE (LOSS V): 0.002572226 \n",
      "\n",
      "solution.v:\n",
      " 0.1764438 0.1807953 0.6427609 \n",
      "\n",
      "solution.w:\n",
      " 0.0077791 0.008558558 0.1292172 0.01034743 0.02673244 0.5855638 0.2006377 0.004999629 0.02616414 \n",
      "\n"
     ]
    }
   ],
   "source": [
    "# fit training model\n",
    "synth.out <- \n",
    "  synth(\n",
    "        data.prep.obj=dataprep.out,\n",
    "        Margin.ipop=.005,Sigf.ipop=7,Bound.ipop=6\n",
    "        )"
   ]
  },
  {
   "cell_type": "markdown",
   "metadata": {},
   "source": [
    "### Results"
   ]
  },
  {
   "cell_type": "code",
   "execution_count": 26,
   "metadata": {
    "vscode": {
     "languageId": "r"
    }
   },
   "outputs": [
    {
     "data": {
      "text/html": [
       "<dl>\n",
       "\t<dt>$tab.pred</dt>\n",
       "\t\t<dd><table>\n",
       "<thead><tr><th></th><th scope=col>Treated</th><th scope=col>Synthetic</th><th scope=col>Sample Mean</th></tr></thead>\n",
       "<tbody>\n",
       "\t<tr><th scope=row>DEBT_GDP</th><td>0.381</td><td>0.381</td><td>0.462</td></tr>\n",
       "\t<tr><th scope=row>EXP_GDP</th><td>0.202</td><td>0.202</td><td>0.229</td></tr>\n",
       "\t<tr><th scope=row>special.REV_GDP.2000.2010</th><td>0.200</td><td>0.200</td><td>0.211</td></tr>\n",
       "</tbody>\n",
       "</table>\n",
       "</dd>\n",
       "\t<dt>$tab.v</dt>\n",
       "\t\t<dd><table>\n",
       "<thead><tr><th></th><th scope=col>v.weights</th></tr></thead>\n",
       "<tbody>\n",
       "\t<tr><th scope=row>DEBT_GDP</th><td>0.176</td></tr>\n",
       "\t<tr><th scope=row>EXP_GDP</th><td>0.181</td></tr>\n",
       "\t<tr><th scope=row>special.REV_GDP.2000.2010</th><td>0.643</td></tr>\n",
       "</tbody>\n",
       "</table>\n",
       "</dd>\n",
       "\t<dt>$tab.w</dt>\n",
       "\t\t<dd><table>\n",
       "<thead><tr><th></th><th scope=col>w.weights</th><th scope=col>unit.names</th><th scope=col>unit.numbers</th></tr></thead>\n",
       "<tbody>\n",
       "\t<tr><th scope=row>233</th><td>0.008</td><td>COL  </td><td>233  </td></tr>\n",
       "\t<tr><th scope=row>238</th><td>0.009</td><td>CRI  </td><td>238  </td></tr>\n",
       "\t<tr><th scope=row>248</th><td>0.129</td><td>ECU  </td><td>248  </td></tr>\n",
       "\t<tr><th scope=row>273</th><td>0.010</td><td>MEX  </td><td>273  </td></tr>\n",
       "\t<tr><th scope=row>283</th><td>0.027</td><td>PAN  </td><td>283  </td></tr>\n",
       "\t<tr><th scope=row>288</th><td>0.586</td><td>PRY  </td><td>288  </td></tr>\n",
       "\t<tr><th scope=row>298</th><td>0.201</td><td>URY  </td><td>298  </td></tr>\n",
       "\t<tr><th scope=row>313</th><td>0.005</td><td>BHS  </td><td>313  </td></tr>\n",
       "\t<tr><th scope=row>343</th><td>0.026</td><td>JAM  </td><td>343  </td></tr>\n",
       "</tbody>\n",
       "</table>\n",
       "</dd>\n",
       "\t<dt>$tab.loss</dt>\n",
       "\t\t<dd><table>\n",
       "<thead><tr><th scope=col>Loss W</th><th scope=col>Loss V</th></tr></thead>\n",
       "<tbody>\n",
       "\t<tr><td>3.658279e-10</td><td>0.002572226 </td></tr>\n",
       "</tbody>\n",
       "</table>\n",
       "</dd>\n",
       "</dl>\n"
      ],
      "text/latex": [
       "\\begin{description}\n",
       "\\item[\\$tab.pred] \\begin{tabular}{r|lll}\n",
       "  & Treated & Synthetic & Sample Mean\\\\\n",
       "\\hline\n",
       "\tDEBT\\_GDP & 0.381 & 0.381 & 0.462\\\\\n",
       "\tEXP\\_GDP & 0.202 & 0.202 & 0.229\\\\\n",
       "\tspecial.REV\\_GDP.2000.2010 & 0.200 & 0.200 & 0.211\\\\\n",
       "\\end{tabular}\n",
       "\n",
       "\\item[\\$tab.v] \\begin{tabular}{r|l}\n",
       "  & v.weights\\\\\n",
       "\\hline\n",
       "\tDEBT\\_GDP & 0.176\\\\\n",
       "\tEXP\\_GDP & 0.181\\\\\n",
       "\tspecial.REV\\_GDP.2000.2010 & 0.643\\\\\n",
       "\\end{tabular}\n",
       "\n",
       "\\item[\\$tab.w] \\begin{tabular}{r|lll}\n",
       "  & w.weights & unit.names & unit.numbers\\\\\n",
       "\\hline\n",
       "\t233 & 0.008 & COL   & 233  \\\\\n",
       "\t238 & 0.009 & CRI   & 238  \\\\\n",
       "\t248 & 0.129 & ECU   & 248  \\\\\n",
       "\t273 & 0.010 & MEX   & 273  \\\\\n",
       "\t283 & 0.027 & PAN   & 283  \\\\\n",
       "\t288 & 0.586 & PRY   & 288  \\\\\n",
       "\t298 & 0.201 & URY   & 298  \\\\\n",
       "\t313 & 0.005 & BHS   & 313  \\\\\n",
       "\t343 & 0.026 & JAM   & 343  \\\\\n",
       "\\end{tabular}\n",
       "\n",
       "\\item[\\$tab.loss] \\begin{tabular}{ll}\n",
       " Loss W & Loss V\\\\\n",
       "\\hline\n",
       "\t 3.658279e-10 & 0.002572226 \\\\\n",
       "\\end{tabular}\n",
       "\n",
       "\\end{description}\n"
      ],
      "text/markdown": [
       "$tab.pred\n",
       ":   \n",
       "| <!--/--> | Treated | Synthetic | Sample Mean |\n",
       "|---|---|---|---|\n",
       "| DEBT_GDP | 0.381 | 0.381 | 0.462 |\n",
       "| EXP_GDP | 0.202 | 0.202 | 0.229 |\n",
       "| special.REV_GDP.2000.2010 | 0.200 | 0.200 | 0.211 |\n",
       "\n",
       "\n",
       "$tab.v\n",
       ":   \n",
       "| <!--/--> | v.weights |\n",
       "|---|---|\n",
       "| DEBT_GDP | 0.176 |\n",
       "| EXP_GDP | 0.181 |\n",
       "| special.REV_GDP.2000.2010 | 0.643 |\n",
       "\n",
       "\n",
       "$tab.w\n",
       ":   \n",
       "| <!--/--> | w.weights | unit.names | unit.numbers |\n",
       "|---|---|---|---|\n",
       "| 233 | 0.008 | COL   | 233   |\n",
       "| 238 | 0.009 | CRI   | 238   |\n",
       "| 248 | 0.129 | ECU   | 248   |\n",
       "| 273 | 0.010 | MEX   | 273   |\n",
       "| 283 | 0.027 | PAN   | 283   |\n",
       "| 288 | 0.586 | PRY   | 288   |\n",
       "| 298 | 0.201 | URY   | 298   |\n",
       "| 313 | 0.005 | BHS   | 313   |\n",
       "| 343 | 0.026 | JAM   | 343   |\n",
       "\n",
       "\n",
       "$tab.loss\n",
       ":   \n",
       "| Loss W | Loss V |\n",
       "|---|---|\n",
       "| 3.658279e-10 | 0.002572226  |\n",
       "\n",
       "\n",
       "\n",
       "\n"
      ],
      "text/plain": [
       "$tab.pred\n",
       "                          Treated Synthetic Sample Mean\n",
       "DEBT_GDP                    0.381     0.381       0.462\n",
       "EXP_GDP                     0.202     0.202       0.229\n",
       "special.REV_GDP.2000.2010   0.200     0.200       0.211\n",
       "\n",
       "$tab.v\n",
       "                          v.weights\n",
       "DEBT_GDP                  0.176    \n",
       "EXP_GDP                   0.181    \n",
       "special.REV_GDP.2000.2010 0.643    \n",
       "\n",
       "$tab.w\n",
       "    w.weights unit.names unit.numbers\n",
       "233     0.008        COL          233\n",
       "238     0.009        CRI          238\n",
       "248     0.129        ECU          248\n",
       "273     0.010        MEX          273\n",
       "283     0.027        PAN          283\n",
       "288     0.586        PRY          288\n",
       "298     0.201        URY          298\n",
       "313     0.005        BHS          313\n",
       "343     0.026        JAM          343\n",
       "\n",
       "$tab.loss\n",
       "           Loss W      Loss V\n",
       "[1,] 3.658279e-10 0.002572226\n"
      ]
     },
     "metadata": {},
     "output_type": "display_data"
    }
   ],
   "source": [
    "#### Table 1\n",
    "synth.tables <- synth.tab(\n",
    "                          dataprep.res = dataprep.out,\n",
    "                          synth.res = synth.out\n",
    "                          ); synth.tables"
   ]
  },
  {
   "cell_type": "markdown",
   "metadata": {},
   "source": [
    "J: considerar + años; + paises. Eso implica no usar directamente la data de los índices. Por ejemplo los placebos se hacen muchos años atrás."
   ]
  },
  {
   "cell_type": "markdown",
   "metadata": {},
   "source": [
    "### Resultados gráficos"
   ]
  },
  {
   "cell_type": "markdown",
   "metadata": {},
   "source": [
    "#### Comparaciones"
   ]
  },
  {
   "cell_type": "code",
   "execution_count": 28,
   "metadata": {
    "vscode": {
     "languageId": "r"
    }
   },
   "outputs": [
    {
     "data": {
      "image/png": "[encoded data removed]",
      "text/plain": [
       "plot without title"
      ]
     },
     "metadata": {},
     "output_type": "display_data"
    }
   ],
   "source": [
    "synthY0 <- (dataprep.out$Y0%*%synth.out$solution.w)\n",
    "options(repr.plot.width = 7, repr.plot.height = 4)\n",
    "cexl = 0.5\n",
    "par(cex = cexl)  #\n",
    "par(cex.axis = cexl, cex.lab = cexl, cex.main = cexl, cex.sub = cexl)\n",
    "par(mfrow = c(1, 2))\n",
    "\n",
    "# Primer gráfico\n",
    "plot(2000:2021, dataprep.out$Y1plot, type=\"l\", ylim=c(0.1,0.9), col=\"black\", lty=\"solid\", ylab =\"Debt/GDP\", xlab =\"Year\", xaxs = \"i\", yaxs = \"i\", lwd=2)\n",
    "lines(2000:2021, aggregate(d[\"DEBT_GDP\"], by = list(d$DATE), mean, na.rm = TRUE)[, 2], col = \"black\", lty = \"dashed\", lwd = 2)\n",
    "abline(v=year_t1, lty=\"dotted\")\n",
    "legend(x=\"bottomright\", legend=c(\"Perú\",\"LAC sample\"), lty=c(\"solid\",\"dashed\"), col=c(\"black\",\"black\"), cex=cexl, bg=\"white\", lwd=c(2,2))\n",
    "# arrows(year_t1-2, Text.height, year_t1-2, Text.height, col=\"black\", length=.1)\n",
    "\n",
    "# Segundo gráfico\n",
    "plot(2000:2021, dataprep.out$Y1plot, type=\"l\", ylim=c(0.1,0.9), col=\"black\", lty=\"solid\", ylab =\"Debt/GDP\", xlab =\"Year\", xaxs = \"i\", yaxs = \"i\", lwd=2)\n",
    "lines(year_t0:year_t2, synthY0, lty = \"dashed\", lwd = 2)\n",
    "abline(v=year_t1, lty=\"dotted\")\n",
    "legend(x=\"bottomright\", legend=c(\"Perú\",\"Synth Perú\"), lty=c(\"solid\",\"dashed\"), col=c(\"black\",\"black\"), cex=cexl, bg=\"white\", lwd=c(2,2))\n",
    "# arrows(year_t1-2, Text.height, year_t1, Text.height, col=\"black\", length=.1)\n",
    "\n",
    "par(mfrow = c(1, 1))\n",
    "\n"
   ]
  },
  {
   "cell_type": "markdown",
   "metadata": {},
   "source": [
    "#### Efecto"
   ]
  },
  {
   "cell_type": "code",
   "execution_count": 30,
   "metadata": {
    "vscode": {
     "languageId": "r"
    }
   },
   "outputs": [
    {
     "data": {
      "image/png": "[encoded data removed]",
      "text/plain": [
       "plot without title"
      ]
     },
     "metadata": {},
     "output_type": "display_data"
    }
   ],
   "source": [
    "options(repr.plot.width = 4, repr.plot.height = 4)\n",
    "cexl = 0.8\n",
    "par(cex = cexl)  #\n",
    "par(cex.axis = cexl, cex.lab = cexl, cex.main = cexl, cex.sub = cexl)\n",
    "\n",
    "gap <- dataprep.out$Y1-(dataprep.out$Y0%*%synth.out$solution.w)\n",
    "\n",
    "plot(2000:2021,gap,\n",
    "type=\"l\",ylim=c(-0.3,0.3),col=\"black\",lty=\"solid\",\n",
    "ylab =\"DEBT_DGP\",\n",
    "     xlab =\"Year\",\n",
    "     xaxs = \"i\", yaxs = \"i\",\n",
    "     lwd=2)\n",
    "     \n",
    "\n",
    "abline(h=0,lty=\"dotted\")\n",
    "abline(v=2010,lty=\"dotted\")\n",
    "# text(2008,0.1,\"Clause activation\",cex=Cex.set)\n"
   ]
  },
  {
   "cell_type": "markdown",
   "metadata": {
    "vscode": {
     "languageId": "r"
    }
   },
   "source": [
    "### Placebo"
   ]
  },
  {
   "cell_type": "markdown",
   "metadata": {},
   "source": [
    "Time placebo"
   ]
  },
  {
   "cell_type": "code",
   "execution_count": 32,
   "metadata": {
    "vscode": {
     "languageId": "r"
    }
   },
   "outputs": [
    {
     "name": "stdout",
     "output_type": "stream",
     "text": [
      "\n",
      "X1, X0, Z1, Z0 all come directly from dataprep object.\n",
      "\n",
      "\n",
      "**************** \n",
      " searching for synthetic control unit  \n",
      " \n",
      "\n",
      "**************** \n",
      "**************** \n",
      "**************** \n",
      "\n",
      "MSPE (LOSS V): 0.0009166834 \n",
      "\n",
      "solution.v:\n",
      " 0.002685502 0.7308959 0.2664185 \n",
      "\n",
      "solution.w:\n",
      " 0.08460841 0.09659075 0.1836077 0.09926372 0.08024276 0.1734108 0.0722696 0.1571715 0.0528348 \n",
      "\n"
     ]
    },
    {
     "data": {
      "image/png": "[encoded data removed]",
      "text/plain": [
       "plot without title"
      ]
     },
     "metadata": {},
     "output_type": "display_data"
    }
   ],
   "source": [
    "year_t0 = 2000 #AÑO AL INICIO\n",
    "year_t1 = 2005 #AÑO ANTES DLE TRATAMIENTO\n",
    "year_t2 = 2021\n",
    "\n",
    "predictors_dp       = c(\"DEBT_GDP\",\"EXP_GDP\")\n",
    "dependent_dp        = \"DEBT_GDP\"\n",
    "id_variable         = which(names(d) == \"WEO_CODE\")\n",
    "time_variable       = which(names(d) == \"DATE\")\n",
    "special_predictors  = list(list(\"REV_GDP\", year_t0:year_t1, c(\"mean\"))) #OTROS PREDICTORES (EN LA MEDIA)\n",
    "treated             = 293 #TRATADO --> PERÚ\n",
    "controls            = setdiff(unique(d$WEO_CODE), treated) #EXLUYENDO AL TRATADO\n",
    "time_predictors     = year_t0:year_t1\n",
    "time_ssr            = year_t0:year_t1\n",
    "names               = which(names(d) == \"ISO3\")\n",
    "time_plot           = year_t0:year_t2\n",
    "\n",
    "\n",
    "dataprep.out <-\n",
    "  dataprep(\n",
    "           foo = d,\n",
    "           predictors    = predictors_dp,\n",
    "           dependent     = dependent_dp,\n",
    "           unit.variable = id_variable,\n",
    "           time.variable = time_variable,\n",
    "           special.predictors = special_predictors,\n",
    "           treatment.identifier = treated,\n",
    "           controls.identifier = controls,\n",
    "           time.predictors.prior = time_predictors,\n",
    "           time.optimize.ssr = time_ssr,\n",
    "           unit.names.variable = names,\n",
    "           time.plot = time_plot\n",
    "         )\n",
    "\n",
    "# fit training model\n",
    "synth.out <- \n",
    "  synth(\n",
    "        data.prep.obj=dataprep.out,\n",
    "        Margin.ipop=.005,Sigf.ipop=7,Bound.ipop=6\n",
    "        )\n",
    "\n",
    "synthY0 <- (dataprep.out$Y0%*%synth.out$solution.w)\n",
    "options(repr.plot.width = 7, repr.plot.height = 4)\n",
    "cexl = 0.5\n",
    "par(cex = cexl)  #\n",
    "par(cex.axis = cexl, cex.lab = cexl, cex.main = cexl, cex.sub = cexl)\n",
    "par(mfrow = c(1, 2))\n",
    "\n",
    "# Primer gráfico\n",
    "plot(year_t0:year_t2, dataprep.out$Y1plot, type=\"l\", ylim=c(0.1,0.9), col=\"black\", lty=\"solid\", ylab =\"Debt/GDP\", xlab =\"Year\", xaxs = \"i\", yaxs = \"i\", lwd=2)\n",
    "lines(year_t0:year_t2, aggregate(d[\"DEBT_GDP\"], by = list(d$DATE), mean, na.rm = TRUE)[, 2], col = \"black\", lty = \"dashed\", lwd = 2)\n",
    "abline(v=year_t1, lty=\"dotted\")\n",
    "legend(x=\"bottomright\", legend=c(\"Perú\",\"LAC sample\"), lty=c(\"solid\",\"dashed\"), col=c(\"black\",\"black\"), cex=cexl, bg=\"white\", lwd=c(2,2))\n",
    "# arrows(year_t1-2, Text.height, year_t1-2, Text.height, col=\"black\", length=.1)\n",
    "\n",
    "# Segundo gráfico\n",
    "plot(year_t0:year_t2, dataprep.out$Y1plot, type=\"l\", ylim=c(0.1,0.9), col=\"black\", lty=\"solid\", ylab =\"Debt/GDP\", xlab =\"Year\", xaxs = \"i\", yaxs = \"i\", lwd=2)\n",
    "lines(year_t0:year_t2, synthY0, lty = \"dashed\", lwd = 2)\n",
    "abline(v=year_t1, lty=\"dotted\")\n",
    "legend(x=\"bottomright\", legend=c(\"Perú\",\"Synth Perú\"), lty=c(\"solid\",\"dashed\"), col=c(\"black\",\"black\"), cex=cexl, bg=\"white\", lwd=c(2,2))\n",
    "# arrows(year_t1-2, Text.height, year_t1, Text.height, col=\"black\", length=.1)\n",
    "\n",
    "par(mfrow = c(1, 1))\n"
   ]
  },
  {
   "cell_type": "markdown",
   "metadata": {},
   "source": [
    "Unit placebo"
   ]
  },
  {
   "cell_type": "code",
   "execution_count": 35,
   "metadata": {
    "vscode": {
     "languageId": "r"
    }
   },
   "outputs": [
    {
     "name": "stdout",
     "output_type": "stream",
     "text": [
      "\n",
      "X1, X0, Z1, Z0 all come directly from dataprep object.\n",
      "\n",
      "\n",
      "**************** \n",
      " searching for synthetic control unit  \n",
      " \n",
      "\n",
      "**************** \n",
      "**************** \n",
      "**************** \n",
      "\n",
      "MSPE (LOSS V): 0.01741896 \n",
      "\n",
      "solution.v:\n",
      " 0.3907052 0.2597582 0.3495366 \n",
      "\n",
      "solution.w:\n",
      " 4.385e-07 0.9485308 7.933e-07 5.944e-07 4.071e-07 4.882e-07 6.658e-07 3.726e-07 0.05146543 \n",
      "\n"
     ]
    },
    {
     "data": {
      "image/png": "[encoded data removed]",
      "text/plain": [
       "plot without title"
      ]
     },
     "metadata": {},
     "output_type": "display_data"
    }
   ],
   "source": [
    "year_t0 = 2000 #AÑO AL INICIO\n",
    "year_t1 = 2010 #AÑO ANTES DLE TRATAMIENTO\n",
    "year_t2 = 2021\n",
    "\n",
    "predictors_dp       = c(\"DEBT_GDP\",\"EXP_GDP\")\n",
    "dependent_dp        = \"DEBT_GDP\"\n",
    "id_variable         = which(names(d) == \"WEO_CODE\")\n",
    "time_variable       = which(names(d) == \"DATE\")\n",
    "special_predictors  = list(list(\"REV_GDP\", year_t0:year_t1, c(\"mean\"))) #OTROS PREDICTORES (EN LA MEDIA)\n",
    "treated             = 233 #TRATADO --> colombia\n",
    "controls            = setdiff(unique(d$WEO_CODE), treated) #EXLUYENDO AL TRATADO\n",
    "time_predictors     = year_t0:year_t1\n",
    "time_ssr            = year_t0:year_t1\n",
    "names               = which(names(d) == \"ISO3\")\n",
    "time_plot           = year_t0:year_t2\n",
    "\n",
    "\n",
    "dataprep.out <-\n",
    "  dataprep(\n",
    "           foo = d,\n",
    "           predictors    = predictors_dp,\n",
    "           dependent     = dependent_dp,\n",
    "           unit.variable = id_variable,\n",
    "           time.variable = time_variable,\n",
    "           special.predictors = special_predictors,\n",
    "           treatment.identifier = treated,\n",
    "           controls.identifier = controls,\n",
    "           time.predictors.prior = time_predictors,\n",
    "           time.optimize.ssr = time_ssr,\n",
    "           unit.names.variable = names,\n",
    "           time.plot = time_plot\n",
    "         )\n",
    "\n",
    "# fit training model\n",
    "synth.out <- \n",
    "  synth(\n",
    "        data.prep.obj=dataprep.out,\n",
    "        Margin.ipop=.005,Sigf.ipop=7,Bound.ipop=6\n",
    "        )\n",
    "\n",
    "\n",
    "synthY0 <- (dataprep.out$Y0%*%synth.out$solution.w)\n",
    "options(repr.plot.width = 7, repr.plot.height = 4)\n",
    "cexl = 0.5\n",
    "par(cex = cexl)  #\n",
    "par(cex.axis = cexl, cex.lab = cexl, cex.main = cexl, cex.sub = cexl)\n",
    "par(mfrow = c(1, 2))\n",
    "\n",
    "# Primer gráfico\n",
    "plot(year_t0:year_t2, dataprep.out$Y1plot, type=\"l\", ylim=c(0.1,0.9), col=\"black\", lty=\"solid\", ylab =\"Debt/GDP\", xlab =\"Year\", xaxs = \"i\", yaxs = \"i\", lwd=2)\n",
    "lines(year_t0:year_t2, aggregate(d[\"DEBT_GDP\"], by = list(d$DATE), mean, na.rm = TRUE)[, 2], col = \"black\", lty = \"dashed\", lwd = 2)\n",
    "abline(v=year_t1, lty=\"dotted\")\n",
    "legend(x=\"bottomright\", legend=c(\"Colombia\",\"LAC sample\"), lty=c(\"solid\",\"dashed\"), col=c(\"black\",\"black\"), cex=cexl, bg=\"white\", lwd=c(2,2))\n",
    "# arrows(year_t1-2, Text.height, year_t1-2, Text.height, col=\"black\", length=.1)\n",
    "\n",
    "# Segundo gráfico\n",
    "plot(year_t0:year_t2, dataprep.out$Y1plot, type=\"l\", ylim=c(0.1,0.9), col=\"black\", lty=\"solid\", ylab =\"Debt/GDP\", xlab =\"Year\", xaxs = \"i\", yaxs = \"i\", lwd=2)\n",
    "lines(year_t0:year_t2, synthY0, lty = \"dashed\", lwd = 2)\n",
    "abline(v=year_t1, lty=\"dotted\")\n",
    "legend(x=\"bottomright\", legend=c(\"Colombia\",\"Synth Colombia\"), lty=c(\"solid\",\"dashed\"), col=c(\"black\",\"black\"), cex=cexl, bg=\"white\", lwd=c(2,2))\n",
    "# arrows(year_t1-2, Text.height, year_t1, Text.height, col=\"black\", length=.1)\n",
    "\n",
    "par(mfrow = c(1, 1))\n"
   ]
  },
  {
   "cell_type": "markdown",
   "metadata": {},
   "source": [
    "Leave-one-out to construct p-values"
   ]
  },
  {
   "cell_type": "code",
   "execution_count": 139,
   "metadata": {
    "vscode": {
     "languageId": "r"
    }
   },
   "outputs": [
    {
     "name": "stdout",
     "output_type": "stream",
     "text": [
      "\n",
      "X1, X0, Z1, Z0 all come directly from dataprep object.\n",
      "\n",
      "\n",
      "**************** \n",
      " searching for synthetic control unit  \n",
      " \n",
      "\n",
      "**************** \n",
      "**************** \n",
      "**************** \n",
      "\n",
      "MSPE (LOSS V): 0.01741896 \n",
      "\n",
      "solution.v:\n",
      " 0.3907052 0.2597582 0.3495366 \n",
      "\n",
      "solution.w:\n",
      " 4.385e-07 0.9485308 7.933e-07 5.944e-07 4.071e-07 4.882e-07 6.658e-07 3.726e-07 0.05146543 \n",
      "\n",
      "\n",
      "X1, X0, Z1, Z0 all come directly from dataprep object.\n",
      "\n",
      "\n",
      "**************** \n",
      " searching for synthetic control unit  \n",
      " \n",
      "\n",
      "**************** \n",
      "**************** \n",
      "**************** \n",
      "\n",
      "MSPE (LOSS V): 0.005416497 \n",
      "\n",
      "solution.v:\n",
      " 0.4411743 0.5588257 1.71e-08 \n",
      "\n",
      "solution.w:\n",
      " 0.01392719 0.02083401 0.02765791 0.03788892 0.06104455 0.04375669 0.02226227 0.6813036 0.09132491 \n",
      "\n",
      "\n",
      "X1, X0, Z1, Z0 all come directly from dataprep object.\n",
      "\n",
      "\n",
      "**************** \n",
      " searching for synthetic control unit  \n",
      " \n",
      "\n",
      "**************** \n",
      "**************** \n",
      "**************** \n",
      "\n",
      "MSPE (LOSS V): 0.01477913 \n",
      "\n",
      "solution.v:\n",
      " 0.4243238 0.5751747 0.0005015576 \n",
      "\n",
      "solution.w:\n",
      " 0.6144042 2.75555e-05 4.52007e-05 6.0216e-06 0.001947472 0.3835182 4.00126e-05 4.239e-07 1.0829e-05 \n",
      "\n",
      "\n",
      "X1, X0, Z1, Z0 all come directly from dataprep object.\n",
      "\n",
      "\n",
      "**************** \n",
      " searching for synthetic control unit  \n",
      " \n",
      "\n",
      "**************** \n",
      "**************** \n",
      "**************** \n",
      "\n",
      "MSPE (LOSS V): 0.002870642 \n",
      "\n",
      "solution.v:\n",
      " 0.1222448 0.3758312 0.5019241 \n",
      "\n",
      "solution.w:\n",
      " 0.4656324 0.3180235 0.01484988 0.02453578 0.02850644 0.02562332 0.01746406 0.04516264 0.06020198 \n",
      "\n",
      "\n",
      "X1, X0, Z1, Z0 all come directly from dataprep object.\n",
      "\n",
      "\n",
      "**************** \n",
      " searching for synthetic control unit  \n",
      " \n",
      "\n",
      "**************** \n",
      "**************** \n",
      "**************** \n",
      "\n",
      "MSPE (LOSS V): 0.002532835 \n",
      "\n",
      "solution.v:\n",
      " 0.7950164 5.1207e-06 0.2049785 \n",
      "\n",
      "solution.w:\n",
      " 0.001947344 0.07186922 0.2289319 0.07026473 0.08748832 0.09511692 0.14589 0.07264285 0.2258488 \n",
      "\n",
      "\n",
      "X1, X0, Z1, Z0 all come directly from dataprep object.\n",
      "\n",
      "\n",
      "**************** \n",
      " searching for synthetic control unit  \n",
      " \n",
      "\n",
      "**************** \n",
      "**************** \n",
      "**************** \n",
      "\n",
      "MSPE (LOSS V): 0.009548448 \n",
      "\n",
      "solution.v:\n",
      " 0.0002698749 0.00335994 0.9963702 \n",
      "\n",
      "solution.w:\n",
      " 6.0727e-06 5.6455e-06 0.1431342 9.7538e-06 1.30247e-05 0.3379003 8.2854e-06 0.5189193 3.4429e-06 \n",
      "\n",
      "\n",
      "X1, X0, Z1, Z0 all come directly from dataprep object.\n",
      "\n",
      "\n",
      "**************** \n",
      " searching for synthetic control unit  \n",
      " \n",
      "\n",
      "**************** \n",
      "**************** \n",
      "**************** \n",
      "\n",
      "MSPE (LOSS V): 0.002572226 \n",
      "\n",
      "solution.v:\n",
      " 0.1764438 0.1807953 0.6427609 \n",
      "\n",
      "solution.w:\n",
      " 0.0077791 0.008558558 0.1292172 0.01034743 0.02673244 0.5855638 0.2006377 0.004999629 0.02616414 \n",
      "\n",
      "\n",
      "X1, X0, Z1, Z0 all come directly from dataprep object.\n",
      "\n",
      "\n",
      "**************** \n",
      " searching for synthetic control unit  \n",
      " \n",
      "\n",
      "**************** \n",
      "**************** \n",
      "**************** \n",
      "\n",
      "MSPE (LOSS V): 0.03226713 \n",
      "\n",
      "solution.v:\n",
      " 0.007411499 0.9925885 1e-10 \n",
      "\n",
      "solution.w:\n",
      " 0.3673927 0.03715396 0.06140974 0.05360884 0.05279046 0.03604947 0.04433676 0.0313018 0.3159563 \n",
      "\n",
      "\n",
      "X1, X0, Z1, Z0 all come directly from dataprep object.\n",
      "\n",
      "\n",
      "**************** \n",
      " searching for synthetic control unit  \n",
      " \n",
      "\n",
      "**************** \n",
      "**************** \n",
      "**************** \n",
      "\n",
      "MSPE (LOSS V): 0.0225759 \n",
      "\n",
      "solution.v:\n",
      " 0.3994577 0.322247 0.2782953 \n",
      "\n",
      "solution.w:\n",
      " 2e-10 0.7050902 3e-10 3e-10 2e-10 0.2949098 5e-10 1e-10 0 \n",
      "\n",
      "\n",
      "X1, X0, Z1, Z0 all come directly from dataprep object.\n",
      "\n",
      "\n",
      "**************** \n",
      " searching for synthetic control unit  \n",
      " \n",
      "\n",
      "**************** \n",
      "**************** \n",
      "**************** \n",
      "\n",
      "MSPE (LOSS V): 0.2304458 \n",
      "\n",
      "solution.v:\n",
      " 0.4211363 0.3090256 0.2698381 \n",
      "\n",
      "solution.w:\n",
      " 7.3e-09 1.18e-08 9.7e-09 1.67e-08 8.07e-08 8.1e-09 1.36e-08 0.9999998 6.5e-09 \n",
      "\n"
     ]
    },
    {
     "data": {
      "text/html": [],
      "text/latex": [],
      "text/markdown": [],
      "text/plain": [
       "<0 x 0 matrix>"
      ]
     },
     "metadata": {},
     "output_type": "display_data"
    }
   ],
   "source": [
    "# Asumiendo que d es tu dataframe y ya está cargado\n",
    "\n",
    "# Definir los años\n",
    "year_t0 = 2000 # Año al inicio\n",
    "year_t1 = 2010 # Año antes del tratamiento\n",
    "year_t2 = 2021 # Año final\n",
    "\n",
    "# Lista de tratados\n",
    "lista_tratados = unique(d$WEO_CODE)\n",
    "\n",
    "# Preparar un dataframe para guardar los resultados\n",
    "resultados = data.frame()\n",
    "\n",
    "resultados_lista = list()\n",
    "\n",
    "# Bucle para cada país o código en la lista de tratados\n",
    "for (i in lista_tratados) {\n",
    "    # Definir variables para dataprep\n",
    "    predictors_dp = c(\"DEBT_GDP\",\"EXP_GDP\")\n",
    "    dependent_dp = \"DEBT_GDP\"\n",
    "    id_variable = which(names(d) == \"WEO_CODE\")\n",
    "    time_variable = which(names(d) == \"DATE\")\n",
    "    special_predictors = list(list(\"REV_GDP\", year_t0:year_t1, c(\"mean\")))\n",
    "    treated = i\n",
    "    controls = setdiff(unique(d$WEO_CODE), treated)\n",
    "    time_predictors = year_t0:year_t1\n",
    "    time_ssr = year_t0:year_t1\n",
    "    names_variable = which(names(d) == \"ISO3\")\n",
    "    time_plot = year_t0:year_t2\n",
    "\n",
    "    # Ejecutar dataprep\n",
    "    dataprep.out <- dataprep(\n",
    "        foo = d,\n",
    "        predictors = predictors_dp,\n",
    "        dependent = dependent_dp,\n",
    "        unit.variable = id_variable,\n",
    "        time.variable = time_variable,\n",
    "        special.predictors = special_predictors,\n",
    "        treatment.identifier = treated,\n",
    "        controls.identifier = controls,\n",
    "        time.predictors.prior = time_predictors,\n",
    "        time.optimize.ssr = time_ssr,\n",
    "        unit.names.variable = names_variable,\n",
    "        time.plot = time_plot\n",
    "    )\n",
    "\n",
    "    # Ejecutar synth\n",
    "    synth.out <- synth(\n",
    "        data.prep.obj = dataprep.out,\n",
    "        Margin.ipop = .005,\n",
    "        Sigf.ipop = 7,\n",
    "        Bound.ipop = 6\n",
    "    )\n",
    "\n",
    "    gap <- dataprep.out$Y1-(dataprep.out$Y0%*%synth.out$solution.w)\n",
    "\n",
    "    # Guardar los resultados\n",
    "    # Crear un dataframe temporal\n",
    "\n",
    "    nombre = as.character(i)\n",
    "\n",
    "    temp_df <- data.frame(nombre = gap)\n",
    "    \n",
    "    resultados_lista[[nombre]] <- temp_df\n",
    "\n",
    "}\n",
    "\n",
    "# Ver los resultados\n",
    "resultados <- do.call(cbind, resultados_lista)"
   ]
  },
  {
   "cell_type": "code",
   "execution_count": 180,
   "metadata": {
    "vscode": {
     "languageId": "r"
    }
   },
   "outputs": [],
   "source": [
    "pvalues = list() \n",
    "controles = setdiff(unique(names(resultados)), \"X293\")\n",
    "\n",
    "for (i in controles) {\n",
    "\n",
    "    r = as.numeric(resultados[[\"X293\"]]<resultados[[i]])\n",
    "    nombre = as.character(i)\n",
    "    temp_df <- data.frame(nombre = r)  \n",
    "    pvalues[[nombre]] <- temp_df\n",
    "\n",
    "}\n",
    "\n",
    "pvalues <- do.call(cbind, pvalues)\n",
    "colnames(pvalues) <- controles\n",
    "p_values_emp = 1- colSums(t(pvalues))/8"
   ]
  },
  {
   "cell_type": "markdown",
   "metadata": {},
   "source": [
    "Ratio RPMSE Post and Pre treatment"
   ]
  },
  {
   "cell_type": "code",
   "execution_count": null,
   "metadata": {
    "vscode": {
     "languageId": "r"
    }
   },
   "outputs": [],
   "source": []
  },
  {
   "cell_type": "code",
   "execution_count": null,
   "metadata": {
    "vscode": {
     "languageId": "r"
    }
   },
   "outputs": [],
   "source": []
  },
  {
   "cell_type": "code",
   "execution_count": null,
   "metadata": {
    "vscode": {
     "languageId": "r"
    }
   },
   "outputs": [],
   "source": []
  },
  {
   "cell_type": "code",
   "execution_count": null,
   "metadata": {
    "vscode": {
     "languageId": "r"
    }
   },
   "outputs": [],
   "source": []
  },
  {
   "cell_type": "code",
   "execution_count": null,
   "metadata": {
    "vscode": {
     "languageId": "r"
    }
   },
   "outputs": [],
   "source": []
  },
  {
   "cell_type": "code",
   "execution_count": null,
   "metadata": {
    "vscode": {
     "languageId": "r"
    }
   },
   "outputs": [],
   "source": [
    "# Text.height <- 23000\n",
    "# Cex.set <- .8\n",
    "# plot(2000:2021,dataprep.out$Y1plot,\n",
    "# type=\"l\",ylim=c(0.1,0.9),col=\"black\",lty=\"solid\",\n",
    "# ylab =\"DEBT_DGP\",\n",
    "#      xlab =\"Year\",\n",
    "#      xaxs = \"i\", yaxs = \"i\",\n",
    "#      lwd=2)\n",
    "\n",
    "# lines(2000:2021, aggregate(d[\"DEBT_GDP\"], by = list(d$DATE), mean, na.rm = TRUE)[, 2], \n",
    "#       col = \"black\", lty = \"dashed\", lwd = 2)\n",
    "\n",
    "# abline(v=year_t1,lty=\"dotted\")\n",
    "\n",
    "# legend(x=\"bottomright\",\n",
    "#        legend=c(\"Perú\",\"Rest of the LAC sample\")\n",
    "#       ,lty=c(\"solid\",\"dashed\"),col=c(\"black\",\"black\")\n",
    "#       ,cex=.8,bg=\"white\",lwd=c(2,2))\n",
    "\n",
    "# arrows(year_t1-2,Text.height,year_t1-2,Text.height,col=\"black\",length=.1)\n",
    "\n",
    "\n",
    "# synthY0 <- (dataprep.out$Y0%*%synth.out$solution.w)\n",
    "# plot(2000:2021,dataprep.out$Y1plot,\n",
    "# type=\"l\",ylim=c(0.1,0.9),col=\"black\",lty=\"solid\",\n",
    "# ylab =\"DEBT_DGP\",\n",
    "#      xlab =\"Year\",\n",
    "#      xaxs = \"i\", yaxs = \"i\",\n",
    "#      lwd=2)\n",
    "     \n",
    "\n",
    "# lines(year_t0:year_t2, synthY0, lty = \"dashed\", lwd = 2)\n",
    "\n",
    "# abline(v=year_t1,lty=\"dotted\")\n",
    "\n",
    "# legend(x=\"bottomright\",\n",
    "#        legend=c(\"Actual Perú\",\"Synth Perú\")\n",
    "#       ,lty=c(\"solid\",\"dashed\"),col=c(\"black\",\"black\")\n",
    "#       ,cex=.8,bg=\"white\",lwd=c(2,2))\n",
    "\n",
    "# arrows(year_t1-2,Text.height,year_t1,Text.height,col=\"black\",length=.1)\n"
   ]
  },
  {
   "cell_type": "code",
   "execution_count": null,
   "metadata": {
    "vscode": {
     "languageId": "r"
    }
   },
   "outputs": [],
   "source": []
  }
 ],
 "metadata": {
  "kernelspec": {
   "display_name": "R",
   "language": "R",
   "name": "ir"
  },
  "language_info": {
   "codemirror_mode": "r",
   "file_extension": ".r",
   "mimetype": "text/x-r-source",
   "name": "R",
   "pygments_lexer": "r",
   "version": "3.6.1"
  }
 },
 "nbformat": 4,
 "nbformat_minor": 2
}
