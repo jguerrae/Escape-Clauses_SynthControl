{
 "cells": [
  {
   "cell_type": "markdown",
   "metadata": {},
   "source": [
    "## Librerias"
   ]
  },
  {
   "cell_type": "code",
   "execution_count": 1,
   "metadata": {
    "vscode": {
     "languageId": "r"
    }
   },
   "outputs": [],
   "source": [
    "#ARREGLAR GRÁFICAS, AÑADIR POBLACIÓN"
   ]
  },
  {
   "cell_type": "code",
   "execution_count": null,
   "metadata": {
    "vscode": {
     "languageId": "r"
    }
   },
   "outputs": [],
   "source": [
    "#INDEPENDIENTE "
   ]
  },
  {
   "cell_type": "code",
   "execution_count": 1,
   "metadata": {
    "vscode": {
     "languageId": "r"
    }
   },
   "outputs": [
    {
     "name": "stderr",
     "output_type": "stream",
     "text": [
      "##\n",
      "## Synth Package: Implements Synthetic Control Methods.\n",
      "\n",
      "## See https://web.stanford.edu/~jhain/synthpage.html for additional information.\n",
      "\n",
      "\n",
      "Warning message:\n",
      "\"package 'openxlsx' was built under R version 3.6.3\""
     ]
    }
   ],
   "source": [
    "rm(list=ls())\n",
    "library(foreign)\n",
    "library(Synth)\n",
    "library(xtable)\n",
    "library(openxlsx)"
   ]
  },
  {
   "cell_type": "code",
   "execution_count": 3,
   "metadata": {
    "vscode": {
     "languageId": "r"
    }
   },
   "outputs": [
    {
     "data": {
      "text/plain": [
       "{\n",
       "    if (is.null(data.prep.obj) == FALSE) {\n",
       "        cat(\"\\nX1, X0, Z1, Z0 all come directly from dataprep object.\\n\\n\")\n",
       "        X1 <- data.prep.obj$X1\n",
       "        Z1 <- data.prep.obj$Z1\n",
       "        X0 <- data.prep.obj$X0\n",
       "        Z0 <- data.prep.obj$Z0\n",
       "    }\n",
       "    else {\n",
       "        cat(\"X1,X0,Z1,Z0 were individually input (not dataprep object.)\\n\\n\")\n",
       "    }\n",
       "    store <- list(X1 = X1, X0 = X0, Z1 = Z1, Z0 = Z0)\n",
       "    for (i in 1:4) {\n",
       "        if (is.null(store[[i]])) {\n",
       "            stop(paste(\"\\n\", names(store)[i], \"is missing \\n\"))\n",
       "        }\n",
       "        if (sum(is.na(store[[i]])) > 0) {\n",
       "            stop(paste(\"\\n NAs in\", names(store)[i], \"\\n\"))\n",
       "        }\n",
       "        if (is.matrix(store[[i]]) == FALSE) {\n",
       "            stop(paste(\"\\n\", names(store)[i], \"is not a matrix object\\n\"))\n",
       "        }\n",
       "    }\n",
       "    if (ncol(X1) != 1) {\n",
       "        stop(\"\\n Please specify only one treated unit: X1 has to have ncol= 1\")\n",
       "    }\n",
       "    if (ncol(Z1) != 1) {\n",
       "        stop(\"\\n Please specify only one treated unit: Z1 has to have ncol= 1\")\n",
       "    }\n",
       "    if (ncol(X0) < 2) {\n",
       "        stop(\"\\n Please specify at least two control units: X0 has to have ncol >= 2 \")\n",
       "    }\n",
       "    if (ncol(Z0) < 2) {\n",
       "        stop(\"\\n Please specify only one treated unit: Z0 has to have ncol >= 2\")\n",
       "    }\n",
       "    if (nrow(Z0) != nrow(Z1)) {\n",
       "        stop(\"\\n Different number of periods for treated and controls: nrow(Z0) unequal nrow(Z1)\")\n",
       "    }\n",
       "    if (nrow(X0) != nrow(X1)) {\n",
       "        stop(\"\\n Different number of predictors for treated and controls: nrow(X0) unequal nrow(X1)\")\n",
       "    }\n",
       "    if (nrow(X0) == 0) {\n",
       "        stop(\"No predictors specified. Please specify at least on predictor\")\n",
       "    }\n",
       "    if (nrow(Z0) == 0) {\n",
       "        stop(\"No periods specified for Z1 and Z0. Please specify at least on period\")\n",
       "    }\n",
       "    if (0 %in% apply(X0, 1, sd)) {\n",
       "        stop(\"\\n At least one predictor in X0 has no variation across control units. Please remove this predictor.\")\n",
       "    }\n",
       "    nvarsV <- dim(X0)[1]\n",
       "    big.dataframe <- cbind(X0, X1)\n",
       "    divisor <- sqrt(apply(big.dataframe, 1, var))\n",
       "    scaled.matrix <- t(t(big.dataframe) %*% (1/(divisor) * diag(rep(dim(big.dataframe)[1], \n",
       "        1))))\n",
       "    X0.scaled <- scaled.matrix[, c(1:(dim(X0)[2]))]\n",
       "    if (is.vector(X0.scaled) == TRUE) {\n",
       "        X0.scaled <- t(as.matrix(X0.scaled))\n",
       "    }\n",
       "    X1.scaled <- scaled.matrix[, dim(scaled.matrix)[2]]\n",
       "    if (is.null(custom.v) & nrow(X0) != 1) {\n",
       "        cat(\"\\n****************\", \"\\n searching for synthetic control unit  \\n\", \n",
       "            \"\\n\")\n",
       "        if (genoud == TRUE) {\n",
       "            cat(\"\\n****************\", \"\\n genoud() requested for optimization\\n\", \n",
       "                \"\\n\")\n",
       "            rgV.genoud <- rgenoud::genoud(fn.V, nvarsV, X0.scaled = X0.scaled, \n",
       "                X1.scaled = X1.scaled, Z0 = Z0, Z1 = Z1, quadopt = quadopt, \n",
       "                margin.ipop = Margin.ipop, sigf.ipop = Sigf.ipop, \n",
       "                bound.ipop = Bound.ipop)\n",
       "            SV1 <- rgV.genoud$par\n",
       "            cat(\"\\n****************\", \"\\n genoud() finished, now running local optimization using optim()\\n\", \n",
       "                \"\\n\")\n",
       "        }\n",
       "        else {\n",
       "            SV1 <- rep(1/nvarsV, nvarsV)\n",
       "        }\n",
       "        all.methods <- FALSE\n",
       "        if (sum(optimxmethod %in% c(\"All\")) == 1) {\n",
       "            all.methods <- TRUE\n",
       "        }\n",
       "        rgV.optim.1 <- optimx(par = SV1, fn = fn.V, gr = NULL, \n",
       "            hess = NULL, method = optimxmethod, itnmax = NULL, \n",
       "            hessian = FALSE, control = list(kkt = FALSE, starttests = FALSE, \n",
       "                dowarn = FALSE, all.methods = all.methods), X0.scaled = X0.scaled, \n",
       "            X1.scaled = X1.scaled, Z0 = Z0, Z1 = Z1, quadopt = quadopt, \n",
       "            margin.ipop = Margin.ipop, sigf.ipop = Sigf.ipop, \n",
       "            bound.ipop = Bound.ipop)\n",
       "        if (verbose == TRUE) {\n",
       "            print(rgV.optim.1)\n",
       "        }\n",
       "        rgV.optim.1 <- collect.optimx(rgV.optim.1, \"min\")\n",
       "        Xall <- cbind(X1.scaled, X0.scaled)\n",
       "        Xall <- cbind(rep(1, ncol(Xall)), t(Xall))\n",
       "        Zall <- cbind(Z1, Z0)\n",
       "        Beta <- try(solve(t(Xall) %*% Xall) %*% t(Xall) %*% t(Zall), \n",
       "            silent = TRUE)\n",
       "        if (inherits(Beta, \"try-error\")) {\n",
       "            rgV.optim <- rgV.optim.1\n",
       "        }\n",
       "        else {\n",
       "            Beta <- Beta[-1, ]\n",
       "            V <- Beta %*% t(Beta)\n",
       "            SV2 <- diag(V)\n",
       "            SV2 <- SV2/sum(SV2)\n",
       "            rgV.optim.2 <- optimx(par = SV2, fn = fn.V, gr = NULL, \n",
       "                hess = NULL, method = optimxmethod, itnmax = NULL, \n",
       "                hessian = FALSE, control = list(kkt = FALSE, \n",
       "                  starttests = FALSE, dowarn = FALSE, all.methods = all.methods), \n",
       "                X0.scaled = X0.scaled, X1.scaled = X1.scaled, \n",
       "                Z0 = Z0, Z1 = Z1, quadopt = quadopt, margin.ipop = Margin.ipop, \n",
       "                sigf.ipop = Sigf.ipop, bound.ipop = Bound.ipop)\n",
       "            if (verbose == TRUE) {\n",
       "                print(rgV.optim.2)\n",
       "            }\n",
       "            rgV.optim.2 <- collect.optimx(rgV.optim.2, \"min\")\n",
       "            if (verbose == TRUE) {\n",
       "                cat(\"\\n Equal weight loss is:\", rgV.optim.1$value, \n",
       "                  \"\\n\")\n",
       "                cat(\"\\n Regression Loss is:\", rgV.optim.2$value, \n",
       "                  \"\\n\")\n",
       "            }\n",
       "            if (rgV.optim.1$value < rgV.optim.2$value) {\n",
       "                rgV.optim <- rgV.optim.1\n",
       "            }\n",
       "            else {\n",
       "                rgV.optim <- rgV.optim.2\n",
       "            }\n",
       "        }\n",
       "        solution.v <- abs(rgV.optim$par)/sum(abs(rgV.optim$par))\n",
       "    }\n",
       "    else {\n",
       "        cat(\"\\n****************\", \"\\n optimization over w weights: computing synthtic control unit \\n\", \n",
       "            \"\\n\\n\")\n",
       "        if (nrow(X0) == 1) {\n",
       "            custom.v <- 1\n",
       "        }\n",
       "        else {\n",
       "            cat(\"\\n****************\", \"\\n v weights supplied manually: computing synthtic control unit \\n\", \n",
       "                \"\\n\\n\")\n",
       "            if (length(custom.v) != nvarsV) {\n",
       "                stop(\"custom.V misspecified: length(custom.V) != nrow(X1)\")\n",
       "            }\n",
       "            if (mode(custom.v) != \"numeric\") {\n",
       "                stop(\"custom.V must be numeric\")\n",
       "            }\n",
       "        }\n",
       "        rgV.optim <- NULL\n",
       "        solution.v <- abs(custom.v)/sum(custom.v)\n",
       "    }\n",
       "    V <- diag(x = as.numeric(solution.v), nrow = nvarsV, ncol = nvarsV)\n",
       "    H <- t(X0.scaled) %*% V %*% (X0.scaled)\n",
       "    a <- X1.scaled\n",
       "    c <- -1 * c(t(a) %*% V %*% (X0.scaled))\n",
       "    A <- t(rep(1, length(c)))\n",
       "    b <- 1\n",
       "    l <- rep(0, length(c))\n",
       "    u <- rep(1, length(c))\n",
       "    r <- 0\n",
       "    if (quadopt == \"ipop\") {\n",
       "        res <- ipop(c = c, H = H, A = A, b = b, l = l, u = u, \n",
       "            r = r, margin = Margin.ipop, maxiter = 1000, sigf = Sigf.ipop, \n",
       "            bound = Bound.ipop)\n",
       "        solution.w <- as.matrix(primal(res))\n",
       "    }\n",
       "    else {\n",
       "        if (quadopt == \"LowRankQP\") {\n",
       "            cat(\"LowRankQP no longer supoorted, please use quadopt==`ipop' instead\")\n",
       "        }\n",
       "    }\n",
       "    rownames(solution.w) <- colnames(X0)\n",
       "    colnames(solution.w) <- \"w.weight\"\n",
       "    names(solution.v) <- rownames(X0)\n",
       "    loss.w <- t(X1.scaled - X0.scaled %*% solution.w) %*% V %*% \n",
       "        (X1.scaled - X0.scaled %*% solution.w)\n",
       "    loss.v <- t(Z1 - Z0 %*% as.matrix(solution.w)) %*% (Z1 - \n",
       "        Z0 %*% as.matrix(solution.w))\n",
       "    loss.v <- loss.v/nrow(Z0)\n",
       "    cat(\"\\n****************\", \"\\n****************\", \"\\n****************\", \n",
       "        \"\\n\\nMSPE (LOSS V):\", loss.v, \"\\n\\nsolution.v:\\n\", round(as.numeric(solution.v), \n",
       "            10), \"\\n\\nsolution.w:\\n\", round(as.numeric(solution.w), \n",
       "            10), \"\\n\\n\")\n",
       "    optimize.out <- list(solution.v = solution.v, solution.w = solution.w, \n",
       "        loss.v = loss.v, loss.w = loss.w, custom.v = custom.v, \n",
       "        rgV.optim = rgV.optim)\n",
       "    return(invisible(optimize.out))\n",
       "}"
      ]
     },
     "metadata": {},
     "output_type": "display_data"
    }
   ],
   "source": [
    "body(synth)"
   ]
  },
  {
   "cell_type": "code",
   "execution_count": 2,
   "metadata": {
    "vscode": {
     "languageId": "r"
    }
   },
   "outputs": [
    {
     "data": {
      "text/html": [
       "'C:/Users/War/anaconda3/envs/R/Lib/R/library'"
      ],
      "text/latex": [
       "'C:/Users/War/anaconda3/envs/R/Lib/R/library'"
      ],
      "text/markdown": [
       "'C:/Users/War/anaconda3/envs/R/Lib/R/library'"
      ],
      "text/plain": [
       "[1] \"C:/Users/War/anaconda3/envs/R/Lib/R/library\""
      ]
     },
     "metadata": {},
     "output_type": "display_data"
    }
   ],
   "source": [
    ".libPaths()"
   ]
  },
  {
   "cell_type": "code",
   "execution_count": 13,
   "metadata": {
    "vscode": {
     "languageId": "r"
    }
   },
   "outputs": [],
   "source": [
    "# POBLACIÓN\n",
    "# CAMBIAR VENTANA HACIA DELANTE (22)"
   ]
  },
  {
   "cell_type": "markdown",
   "metadata": {},
   "source": [
    "## Load data"
   ]
  },
  {
   "cell_type": "code",
   "execution_count": 14,
   "metadata": {
    "vscode": {
     "languageId": "r"
    }
   },
   "outputs": [],
   "source": [
    "# Load Data \n",
    "df <- read.dta(\"dbec_vf.dta\")"
   ]
  },
  {
   "cell_type": "code",
   "execution_count": 39,
   "metadata": {
    "vscode": {
     "languageId": "r"
    }
   },
   "outputs": [],
   "source": [
    "df[\"POP\"] <- log(df[\"POP\"], base = 10)"
   ]
  },
  {
   "cell_type": "code",
   "execution_count": 63,
   "metadata": {
    "vscode": {
     "languageId": "r"
    }
   },
   "outputs": [
    {
     "name": "stderr",
     "output_type": "stream",
     "text": [
      "Warning message in dir.create(\"RESULTADOS\"):\n",
      "\"'RESULTADOS' already exists\""
     ]
    },
    {
     "name": "stderr",
     "output_type": "stream",
     "text": [
      "Warning message in dir.create(directorio):\n",
      "\"'RESULTADOS\\CLUPER2010' already exists\""
     ]
    }
   ],
   "source": [
    "year_t0 = 1995 #AÑO AL INICIO\n",
    "year_t1 = 2010 #AÑO ANTES DEL TRATAMIENTO\n",
    "year_t2 = 2016 #AÑO FINAL\n",
    "\n",
    "d<-df[df$DATE<=year_t2,]\n",
    "d<-d[d$DATE>=year_t0,]\n",
    "\n",
    "\n",
    "pais = \"PER\"\n",
    "# pais = \"COL\"\n",
    "# pais = \"HND\"\n",
    "\n",
    "code_treated = d[d$ISO3==pais,]$WEO_CODE[1]\n",
    "\n",
    "\n",
    "# muestra <- \"LAC\"\n",
    "muestra <- \"CLU\"\n",
    "# muestra <- \"CLU&LAC\"\n",
    "\n",
    "if (muestra == \"LAC\") {\n",
    "    d <- d[d$LAC1 == 1, ]\n",
    "} else if (muestra == \"CLU\") {\n",
    "    d <- d[(d$CLUSTER>=4 | d$WEO==293) & (d$LAC1!=1 | d$WEO==293),]\n",
    "} else if (muestra == \"CLU&LAC\") {\n",
    "    d <- d[(d$CLUSTER>=3 | d$WEO==293) | (d$LAC1==1 | d$WEO==293),]\n",
    "}\n",
    "\n",
    "# Crear una carpeta\n",
    "dir.create(\"RESULTADOS\")\n",
    "directorio = paste0(\"RESULTADOS/\", muestra, pais, year_t1)\n",
    "dir.create(directorio)\n",
    "\n",
    "# d <- d[d$CLUSTER>=4 | d$WEO==293,]\n",
    "# d <- d[d$CLUSTER>=2 | d$WEO==293,]\n",
    "# d <- d[d$CLUSTER>=4 | d$LAC2==1,]\n",
    "# d <- d[d$GROUP==\"EMDEs\" | d$WEO==293,]"
   ]
  },
  {
   "cell_type": "markdown",
   "metadata": {},
   "source": [
    "## Run synthetic control"
   ]
  },
  {
   "cell_type": "code",
   "execution_count": 64,
   "metadata": {
    "vscode": {
     "languageId": "r"
    }
   },
   "outputs": [
    {
     "name": "stdout",
     "output_type": "stream",
     "text": [
      "\n",
      "X1, X0, Z1, Z0 all come directly from dataprep object.\n",
      "\n",
      "\n",
      "**************** \n",
      " searching for synthetic control unit  \n",
      " \n",
      "\n",
      "**************** \n",
      "**************** \n",
      "**************** \n",
      "\n",
      "MSPE (LOSS V): 0.0003890099 \n",
      "\n",
      "solution.v:\n",
      " 0.8715384 0.00743962 0.0004425924 0.0008619269 0.009250292 0.03688044 4.171e-07 0.0001282574 0.07006064 0.003397447 \n",
      "\n",
      "solution.w:\n",
      " 3.928e-06 9.039e-07 6.269e-07 0.4012589 0.04873233 5.651e-07 0.04859046 7.477e-07 1.3728e-06 9.159e-07 7.331e-07 3.691e-07 3.39729e-05 8.975e-07 1.5946e-06 3e-10 5.5344e-06 7.328e-07 0.2218124 0.2795531 \n",
      "\n"
     ]
    }
   ],
   "source": [
    "#################################################################################\n",
    "# PARAMETERS\n",
    "#################################################################################\n",
    "\n",
    "predictors_dp       = c(\"DEBT_GDP\",\"EXP_GDP\", \"INTRES_GDP\")\n",
    "dependent_dp        = \"DEBT_GDP\"\n",
    "id_variable         = which(names(d) == \"WEO_CODE\")\n",
    "time_variable       = which(names(d) == \"DATE\")\n",
    "\n",
    "special_predictors  = list(list(\"REV_GDP\", year_t0:year_t1, c(\"mean\")),\n",
    "                           list(\"TRADE_OPEN\", year_t0:year_t1, c(\"mean\")),\n",
    "                            list(\"NET_FDI_GDP\", year_t0:year_t1, c(\"mean\")),\n",
    "                            list(\"LUR\", year_t0:year_t1, c(\"mean\")),\n",
    "                            list(\"CAP_RETURN\", year_t0:year_t1, c(\"mean\")),\n",
    "                            list(\"POP\", year_t0:year_t1, c(\"mean\")),\n",
    "                            list(\"INFLATION\", year_t0:year_t1, c(\"mean\"))\n",
    "                           )\n",
    "\n",
    "treated             = code_treated \n",
    "controls            = setdiff(unique(d$WEO_CODE), treated) #EXLUYENDO AL TRATADO\n",
    "time_predictors     = year_t0:year_t1\n",
    "time_ssr            = year_t0:year_t1\n",
    "names               = which(names(d) == \"ISO3\")\n",
    "time_plot           = year_t0:year_t2\n",
    "\n",
    "#################################################################################\n",
    "# DATA PREPARATION\n",
    "#################################################################################\n",
    "\n",
    "\n",
    "dataprep.out <-\n",
    "  dataprep(\n",
    "           foo = d,\n",
    "           predictors    = predictors_dp,\n",
    "           dependent     = dependent_dp,\n",
    "           unit.variable = id_variable,\n",
    "           time.variable = time_variable,\n",
    "           special.predictors = special_predictors,\n",
    "           treatment.identifier = treated,\n",
    "           controls.identifier = controls,\n",
    "           time.predictors.prior = time_predictors,\n",
    "           time.optimize.ssr = time_ssr,\n",
    "           unit.names.variable = names,\n",
    "           time.plot = time_plot\n",
    "         )\n",
    "\n",
    "#################################################################################\n",
    "# FIT\n",
    "#################################################################################\n",
    "synth.out <- synth(\n",
    "        data.prep.obj=dataprep.out,\n",
    "        Margin.ipop=.005,Sigf.ipop=7,Bound.ipop=6\n",
    "        )\n",
    "\n",
    "synth.tables <- synth.tab(\n",
    "                          dataprep.res = dataprep.out,\n",
    "                          synth.res = synth.out\n",
    "                          )"
   ]
  },
  {
   "cell_type": "markdown",
   "metadata": {},
   "source": [
    "## Results"
   ]
  },
  {
   "cell_type": "code",
   "execution_count": 65,
   "metadata": {
    "vscode": {
     "languageId": "r"
    }
   },
   "outputs": [],
   "source": [
    "tabla_estimaciones <- createWorkbook()\n",
    "\n",
    "addWorksheet(tabla_estimaciones, \"variables\")\n",
    "pesos <- do.call(rbind.data.frame, synth.tables[2])\n",
    "descriptivas = do.call(rbind.data.frame, synth.tables[1])\n",
    "descriptivas <- cbind(row.names(descriptivas), descriptivas)\n",
    "descriptivas <- cbind(descriptivas, pesos)\n",
    "writeData(tabla_estimaciones, \"variables\", descriptivas)\n",
    "\n",
    "\n",
    "addWorksheet(tabla_estimaciones, \"countries\")\n",
    "paises = do.call(rbind.data.frame, synth.tables[3])\n",
    "writeData(tabla_estimaciones, \"countries\", paises)\n",
    "\n",
    "\n",
    "synthY0 <- (dataprep.out$Y0 %*% synth.out$solution.w)\n",
    "obsLAC  <- aggregate(d[\"DEBT_GDP\"], by=list(d$DATE), mean, na.rm=TRUE)[, 2]\n",
    "Y1      <- dataprep.out$Y1plot\n",
    "gap <- dataprep.out$Y1-(dataprep.out$Y0%*%synth.out$solution.w)\n",
    "\n",
    "fila <- rep(0, length(seq(year_t0, year_t2))); fila[seq(year_t0, year_t2) == year_t1] <- 1\n",
    "\n",
    "efecto <- data.frame(seq(year_t0, year_t2), ObsLAC = obsLAC, Y1 = Y1, SynthY0 = synthY0, Gap = gap, Fila = fila)\n",
    "colnames(efecto) <- c(\"Año\", \"Average Sample\", pais, paste0(pais, \"_synth\"), \"Effect\", \"Treatment Year\")\n",
    "addWorksheet(tabla_estimaciones, \"effects\")\n",
    "writeData(tabla_estimaciones, \"effects\", efecto)\n",
    "\n",
    "\n",
    "saveWorkbook(tabla_estimaciones, paste0(directorio, \"/Tablas.xlsx\"), overwrite = TRUE)\n"
   ]
  },
  {
   "cell_type": "markdown",
   "metadata": {},
   "source": [
    "### Resultados gráficos"
   ]
  },
  {
   "cell_type": "code",
   "execution_count": 66,
   "metadata": {
    "vscode": {
     "languageId": "r"
    }
   },
   "outputs": [
    {
     "data": {
      "text/html": [
       "<strong>png:</strong> 2"
      ],
      "text/latex": [
       "\\textbf{png:} 2"
      ],
      "text/markdown": [
       "**png:** 2"
      ],
      "text/plain": [
       "png \n",
       "  2 "
      ]
     },
     "metadata": {},
     "output_type": "display_data"
    },
    {
     "data": {
      "text/html": [
       "<strong>png:</strong> 2"
      ],
      "text/latex": [
       "\\textbf{png:} 2"
      ],
      "text/markdown": [
       "**png:** 2"
      ],
      "text/plain": [
       "png \n",
       "  2 "
      ]
     },
     "metadata": {},
     "output_type": "display_data"
    },
    {
     "data": {
      "text/html": [
       "<strong>png:</strong> 2"
      ],
      "text/latex": [
       "\\textbf{png:} 2"
      ],
      "text/markdown": [
       "**png:** 2"
      ],
      "text/plain": [
       "png \n",
       "  2 "
      ]
     },
     "metadata": {},
     "output_type": "display_data"
    }
   ],
   "source": [
    "#################################################################################\n",
    "# PERU VS SAMPLE\n",
    "#################################################################################\n",
    "\n",
    "options(repr.plot.width = 4, repr.plot.height = 4)\n",
    "cexl = 0.9\n",
    "par(cex = cexl, cex.axis = cexl, cex.lab = cexl, cex.main = cexl, cex.sub = cexl)\n",
    "\n",
    "png(paste0(directorio, paste0(\"/1_\", pais, \"_vs_sample.png\")), width = 600, height = 600)\n",
    "\n",
    "# Crear el gráfico\n",
    "plot(year_t0:year_t2, dataprep.out$Y1plot, type=\"l\", ylim=c(0.1,0.9), col=\"black\", lty=\"solid\",\n",
    "      ylab=\"Debt/GDP\",  xlab=\"Year\", xaxs=\"i\", yaxs=\"i\", lwd=2)\n",
    "\n",
    "lines(year_t0:year_t2, obsLAC , \n",
    "      col=\"black\", lty=\"dashed\", lwd=2)\n",
    "    \n",
    "abline(v=year_t1, lty=\"dotted\")\n",
    "\n",
    "legend(\"bottomleft\", legend = c(pais, \"sample\"),  lty = c(\"solid\", \"dashed\"), \n",
    "      col = c(\"black\", \"black\"), cex = 0.8, bg = \"white\")\n",
    "\n",
    "dev.off()\n",
    "\n",
    "#################################################################################\n",
    "# PERU VS SYTN PERÚ\n",
    "#################################################################################\n",
    "options(repr.plot.width = 4, repr.plot.height = 4)\n",
    "cexl = 0.9\n",
    "par(cex = cexl, cex.axis = cexl, cex.lab = cexl, cex.main = cexl, cex.sub = cexl)\n",
    "\n",
    "png(paste0(directorio, paste0(\"/2_\", pais, \"_vs_synth.png\")), width = 600, height = 600)\n",
    "\n",
    "# Crear el gráfico\n",
    "plot(year_t0:year_t2, Y1, type=\"l\", ylim=c(0.1,0.9), col=\"black\", lty=\"solid\",\n",
    "      ylab=\"Debt/GDP\",  xlab=\"Year\", xaxs=\"i\", yaxs=\"i\", lwd=2)\n",
    "\n",
    "lines(year_t0:year_t2,  synthY0, \n",
    "      col=\"black\", lty=\"dashed\", lwd=2)\n",
    "    \n",
    "abline(v=year_t1, lty=\"dotted\")\n",
    "\n",
    "legend(\"bottomleft\", legend = c(pais, \"_synth\"),  lty = c(\"solid\", \"dashed\"), \n",
    "      col = c(\"black\", \"black\"), cex = 0.8, bg = \"white\")\n",
    "\n",
    "dev.off()\n",
    "\n",
    "\n",
    "#################################################################################\n",
    "# EFECTO\n",
    "#################################################################################\n",
    "options(repr.plot.width = 4, repr.plot.height = 4)\n",
    "cexl = 0.9\n",
    "par(cex = cexl, cex.axis = cexl, cex.lab = cexl, cex.main = cexl, cex.sub = cexl)\n",
    "\n",
    "png(paste0(directorio, paste0(\"/3_\", pais, \"_effect.png\")), width = 600, height = 600)\n",
    "\n",
    "plot(year_t0:year_t2,gap,\n",
    "type=\"l\",ylim=c(-0.5,0.5),col=\"black\",lty=\"solid\",\n",
    "ylab =\"DEBT_DGP\",\n",
    "     xlab =\"Year\",\n",
    "     xaxs = \"i\", yaxs = \"i\",\n",
    "     lwd=2)\n",
    "     \n",
    "abline(h=0,lty=\"dotted\")\n",
    "abline(v=2010,lty=\"dotted\")\n",
    "\n",
    "dev.off()"
   ]
  },
  {
   "cell_type": "code",
   "execution_count": null,
   "metadata": {
    "vscode": {
     "languageId": "r"
    }
   },
   "outputs": [],
   "source": []
  },
  {
   "cell_type": "code",
   "execution_count": null,
   "metadata": {
    "vscode": {
     "languageId": "r"
    }
   },
   "outputs": [],
   "source": []
  },
  {
   "cell_type": "code",
   "execution_count": null,
   "metadata": {
    "vscode": {
     "languageId": "r"
    }
   },
   "outputs": [],
   "source": []
  },
  {
   "cell_type": "code",
   "execution_count": null,
   "metadata": {
    "vscode": {
     "languageId": "r"
    }
   },
   "outputs": [],
   "source": []
  },
  {
   "cell_type": "code",
   "execution_count": null,
   "metadata": {
    "vscode": {
     "languageId": "r"
    }
   },
   "outputs": [],
   "source": []
  },
  {
   "cell_type": "code",
   "execution_count": null,
   "metadata": {
    "vscode": {
     "languageId": "r"
    }
   },
   "outputs": [],
   "source": []
  },
  {
   "cell_type": "code",
   "execution_count": null,
   "metadata": {
    "vscode": {
     "languageId": "r"
    }
   },
   "outputs": [],
   "source": []
  },
  {
   "cell_type": "code",
   "execution_count": null,
   "metadata": {
    "vscode": {
     "languageId": "r"
    }
   },
   "outputs": [],
   "source": []
  },
  {
   "cell_type": "code",
   "execution_count": null,
   "metadata": {
    "vscode": {
     "languageId": "r"
    }
   },
   "outputs": [],
   "source": []
  },
  {
   "cell_type": "code",
   "execution_count": null,
   "metadata": {
    "vscode": {
     "languageId": "r"
    }
   },
   "outputs": [],
   "source": []
  },
  {
   "cell_type": "code",
   "execution_count": null,
   "metadata": {
    "vscode": {
     "languageId": "r"
    }
   },
   "outputs": [],
   "source": []
  },
  {
   "cell_type": "code",
   "execution_count": null,
   "metadata": {
    "vscode": {
     "languageId": "r"
    }
   },
   "outputs": [],
   "source": []
  },
  {
   "cell_type": "code",
   "execution_count": null,
   "metadata": {
    "vscode": {
     "languageId": "r"
    }
   },
   "outputs": [],
   "source": []
  },
  {
   "cell_type": "markdown",
   "metadata": {},
   "source": [
    "## Inference"
   ]
  },
  {
   "cell_type": "markdown",
   "metadata": {},
   "source": [
    "Leave-one-out to construct p-values"
   ]
  },
  {
   "cell_type": "code",
   "execution_count": 76,
   "metadata": {
    "vscode": {
     "languageId": "r"
    }
   },
   "outputs": [
    {
     "name": "stdout",
     "output_type": "stream",
     "text": [
      "\n",
      "X1, X0, Z1, Z0 all come directly from dataprep object.\n",
      "\n",
      "\n",
      "**************** \n",
      " searching for synthetic control unit  \n",
      " \n",
      "\n",
      "**************** \n",
      "**************** \n",
      "**************** \n",
      "\n",
      "MSPE (LOSS V): 0.0375686 \n",
      "\n",
      "solution.v:\n",
      " 0.1671745 0.1696513 0.001938978 0.000122222 1.0689e-06 0.3135096 0.3106206 0.01311903 0.02380727 5.54684e-05 \n",
      "\n",
      "solution.w:\n",
      " 7.7417e-06 2.7e-09 3e-10 1.12e-08 3e-10 1.5e-08 1.41e-08 6.2473e-06 5.4e-09 8.9e-09 0.6665388 0.3332442 3.9e-09 2.05e-08 1.72e-08 0.000202711 2.032e-07 3e-10 2e-10 \n",
      "\n",
      "\n",
      "X1, X0, Z1, Z0 all come directly from dataprep object.\n",
      "\n",
      "\n",
      "**************** \n",
      " searching for synthetic control unit  \n",
      " \n",
      "\n",
      "**************** \n",
      "**************** \n",
      "**************** \n",
      "\n",
      "MSPE (LOSS V): 0.003745111 \n",
      "\n",
      "solution.v:\n",
      " 0.1980136 0.2039251 0.00932821 0.002493241 0.1282822 0.09639159 0.1388686 0.01166542 0.01455146 0.1964806 \n",
      "\n",
      "solution.w:\n",
      " 4.642e-07 3e-10 0.3325846 5e-10 3.5e-09 1.8e-09 2.9e-09 1.8e-09 6e-10 7e-10 2e-09 3e-10 2e-10 0.6674149 4e-10 6e-10 0 2e-10 1e-10 \n",
      "\n",
      "\n",
      "X1, X0, Z1, Z0 all come directly from dataprep object.\n",
      "\n",
      "\n",
      "**************** \n",
      " searching for synthetic control unit  \n",
      " \n",
      "\n",
      "**************** \n",
      "**************** \n",
      "**************** \n",
      "\n",
      "MSPE (LOSS V): 0.02577876 \n",
      "\n",
      "solution.v:\n",
      " 0.4798011 0.001291424 0.01792141 0.2098768 0.04034682 0.07233378 0.05906844 0.0168303 0.09598882 0.006541089 \n",
      "\n",
      "solution.w:\n",
      " 0 3e-10 2.2e-09 1.8e-09 3e-10 2e-10 1.8e-09 3e-10 2e-10 4e-10 5e-10 0 1 1e-10 0 0 0 2e-10 1e-10 \n",
      "\n",
      "\n",
      "X1, X0, Z1, Z0 all come directly from dataprep object.\n",
      "\n",
      "\n",
      "**************** \n",
      " searching for synthetic control unit  \n",
      " \n",
      "\n",
      "**************** \n",
      "**************** \n",
      "**************** \n",
      "\n",
      "MSPE (LOSS V): 9.480143e-05 \n",
      "\n",
      "solution.v:\n",
      " 0.5044209 0.294286 0.1686411 1.188e-07 0.01147892 0.0002370925 0.001954642 0.003274837 0.01321111 0.002495298 \n",
      "\n",
      "solution.w:\n",
      " 3.539e-07 0.4118379 0.388945 0.1552609 4.84e-08 5.85e-08 2.89e-08 1.272e-07 5.176e-07 8.8026e-06 1.561e-07 1.103e-07 0.001945048 1.018e-07 1.815e-07 8.87199e-05 1.658e-07 0.04191133 4.434e-07 \n",
      "\n",
      "\n",
      "X1, X0, Z1, Z0 all come directly from dataprep object.\n",
      "\n",
      "\n",
      "**************** \n",
      " searching for synthetic control unit  \n",
      " \n",
      "\n",
      "**************** \n",
      "**************** \n",
      "**************** \n",
      "\n",
      "MSPE (LOSS V): 0.0001717439 \n",
      "\n",
      "solution.v:\n",
      " 0.1258426 0.07667351 0.02216472 0.1117316 0.1506366 0.02256723 0.09741616 0.1541894 0.08730925 0.1514691 \n",
      "\n",
      "solution.w:\n",
      " 1e-09 2e-10 1e-10 2e-10 0.09366881 0.3288141 1.9e-09 3.2e-09 0.02234162 2e-10 0.05684556 8e-10 0.4983299 2e-10 4e-10 2e-10 3e-10 4e-10 2e-10 \n",
      "\n",
      "\n",
      "X1, X0, Z1, Z0 all come directly from dataprep object.\n",
      "\n",
      "\n",
      "**************** \n",
      " searching for synthetic control unit  \n",
      " \n",
      "\n",
      "**************** \n",
      "**************** \n",
      "**************** \n",
      "\n",
      "MSPE (LOSS V): 0.006523001 \n",
      "\n",
      "solution.v:\n",
      " 0.3008662 0.5291273 0.07768473 5.9212e-06 0.03705194 0.001483691 0.001088753 0.05134012 0.0009482542 0.0004031064 \n",
      "\n",
      "solution.w:\n",
      " 1.03e-08 1.86e-08 0.211394 0.120341 7.6e-09 0.6257861 1.1e-08 3.6e-09 5.36e-08 8.7e-09 9.6e-09 4.9e-09 5.4e-09 9.04726e-05 1.23e-08 0.04231905 6.5e-09 9.98e-07 6.82296e-05 \n",
      "\n",
      "\n",
      "X1, X0, Z1, Z0 all come directly from dataprep object.\n",
      "\n",
      "\n",
      "**************** \n",
      " searching for synthetic control unit  \n",
      " \n",
      "\n",
      "**************** \n",
      "**************** \n",
      "**************** \n",
      "\n",
      "MSPE (LOSS V): 0.009109453 \n",
      "\n",
      "solution.v:\n",
      " 0.4371637 0.2673022 0.1745215 0.0476754 0.07052476 0.0004674484 0.0001352388 0.001678932 1.32145e-05 0.000517562 \n",
      "\n",
      "solution.w:\n",
      " 1.98e-08 0.02270686 1.09e-08 0.169342 0.127989 0.5553536 1.324e-07 2.77e-08 1.35e-08 2.45e-08 2.74e-08 0.1246079 2.94e-08 1.69e-08 6.74e-08 2.61e-08 1.97e-08 1.488e-07 5.71e-08 \n",
      "\n",
      "\n",
      "X1, X0, Z1, Z0 all come directly from dataprep object.\n",
      "\n",
      "\n",
      "**************** \n",
      " searching for synthetic control unit  \n",
      " \n",
      "\n",
      "**************** \n",
      "**************** \n",
      "**************** \n",
      "\n",
      "MSPE (LOSS V): 0.0005620597 \n",
      "\n",
      "solution.v:\n",
      " 0.1195032 0.1139732 0.1012721 6.75059e-05 0.3353837 0.0002540328 0.0001997862 0.02907607 0.2507216 0.04954885 \n",
      "\n",
      "solution.w:\n",
      " 3.35e-08 0.2481084 6e-09 0.1792411 0.131327 2.037e-07 1.5948e-06 3.1e-09 7.268e-07 1.1e-08 6.3e-09 2.3e-09 0.3392382 4.56e-08 9.5e-09 7.9e-09 7.8e-09 0.1020825 2.3e-08 \n",
      "\n",
      "\n",
      "X1, X0, Z1, Z0 all come directly from dataprep object.\n",
      "\n",
      "\n",
      "**************** \n",
      " searching for synthetic control unit  \n",
      " \n",
      "\n",
      "**************** \n",
      "**************** \n",
      "**************** \n",
      "\n",
      "MSPE (LOSS V): 0.001267441 \n",
      "\n",
      "solution.v:\n",
      " 0.488711 0.2609735 0.1491168 0.03614486 0.001043702 0.0001852826 0.009292927 0.004402519 0.04970654 0.0004228662 \n",
      "\n",
      "solution.w:\n",
      " 1.209e-07 0.08424996 2.16e-08 1.65e-08 1.58e-08 7.6e-09 7.7e-09 1.06e-08 6e-09 0.636043 2.32e-07 0.03390342 0.06978862 0.09569514 1.56e-08 1.12e-08 0.08031934 1.18e-08 1.94e-08 \n",
      "\n",
      "\n",
      "X1, X0, Z1, Z0 all come directly from dataprep object.\n",
      "\n",
      "\n",
      "**************** \n",
      " searching for synthetic control unit  \n",
      " \n",
      "\n",
      "**************** \n",
      "**************** \n",
      "**************** \n",
      "\n",
      "MSPE (LOSS V): 0.007031661 \n",
      "\n",
      "solution.v:\n",
      " 0.1445824 0.0006130293 0.1286509 0.01338727 0.168872 0.0002963048 0.1168129 0.05715458 0.2101847 0.1594459 \n",
      "\n",
      "solution.w:\n",
      " 4.9e-09 2e-09 1.6e-09 2.1e-09 0.101208 0.2883668 0.1697776 2.4e-08 2.98e-08 2.6698e-06 5.9e-09 3.65e-07 0.4406445 2.7e-09 9.7e-09 9.4e-09 6.5e-09 2.5e-09 2.3e-09 \n",
      "\n",
      "\n",
      "X1, X0, Z1, Z0 all come directly from dataprep object.\n",
      "\n",
      "\n",
      "**************** \n",
      " searching for synthetic control unit  \n",
      " \n",
      "\n",
      "**************** \n",
      "**************** \n",
      "**************** \n",
      "\n",
      "MSPE (LOSS V): 0.0006007577 \n",
      "\n",
      "solution.v:\n",
      " 0.3380754 0.1734689 0.1210178 0.2112657 2.02535e-05 0.000168609 0.03697011 0.07976721 0.03548633 0.003759667 \n",
      "\n",
      "solution.w:\n",
      " 6.37e-08 1.116e-07 0.1386992 6.024e-07 2.68e-08 2.17e-08 2.412e-07 5.638e-07 0.4539167 0.3231313 6.74e-08 0.01993759 0.06431062 1.73e-07 6.337e-07 1.146e-07 2.332e-07 1.122e-06 6.785e-07 \n",
      "\n",
      "\n",
      "X1, X0, Z1, Z0 all come directly from dataprep object.\n",
      "\n",
      "\n",
      "**************** \n",
      " searching for synthetic control unit  \n",
      " \n",
      "\n",
      "**************** \n",
      "**************** \n",
      "**************** \n",
      "\n",
      "MSPE (LOSS V): 0.003199444 \n",
      "\n",
      "solution.v:\n",
      " 0.1699805 0.0009668291 0.0008295073 0.01189487 0.001971304 0.02774554 0.2402671 0.1220361 0.256266 0.1680423 \n",
      "\n",
      "solution.w:\n",
      " 0.4842472 0.06149871 8.248e-07 0.03213896 0.2808604 3.494e-06 4.87e-08 7.15e-08 0.008062939 8.01e-08 9.34e-08 7.9939e-06 1.123e-07 9.94e-08 8.99e-08 1.3015e-06 4.37e-08 0.1331774 3.19e-08 \n",
      "\n",
      "\n",
      "X1, X0, Z1, Z0 all come directly from dataprep object.\n",
      "\n",
      "\n",
      "**************** \n",
      " searching for synthetic control unit  \n",
      " \n",
      "\n",
      "**************** \n",
      "**************** \n",
      "**************** \n",
      "\n",
      "MSPE (LOSS V): 0.02548877 \n",
      "\n",
      "solution.v:\n",
      " 0.3329107 1.3052e-06 6.5803e-06 0.1656022 3.898e-07 0.01832058 0.05031582 0.2581301 0.06156286 0.1131495 \n",
      "\n",
      "solution.w:\n",
      " 6.20279e-05 5.71518e-05 0 2.08e-08 8e-10 2.9e-09 1.1e-09 6e-10 0.0176822 2.4e-09 2.5e-09 6.52e-08 2e-10 0.635007 1.187e-07 2.873e-07 0.347185 2.16e-06 4.0264e-06 \n",
      "\n",
      "\n",
      "X1, X0, Z1, Z0 all come directly from dataprep object.\n",
      "\n",
      "\n",
      "**************** \n",
      " searching for synthetic control unit  \n",
      " \n",
      "\n",
      "**************** \n",
      "**************** \n",
      "**************** \n",
      "\n",
      "MSPE (LOSS V): 0.00275671 \n",
      "\n",
      "solution.v:\n",
      " 0.3675635 0.06220389 0.002454552 0.1437641 0.007596532 0.09151948 0.02377098 2.94725e-05 0.2846567 0.0164408 \n",
      "\n",
      "solution.w:\n",
      " 0 0 0.6045689 0 2.9871e-06 0 1e-10 1e-10 0 5e-09 5.854e-07 0 0 0 0 0 3e-10 0.3954275 1.18e-08 \n",
      "\n",
      "\n",
      "X1, X0, Z1, Z0 all come directly from dataprep object.\n",
      "\n",
      "\n",
      "**************** \n",
      " searching for synthetic control unit  \n",
      " \n",
      "\n",
      "**************** \n",
      "**************** \n",
      "**************** \n",
      "\n",
      "MSPE (LOSS V): 0.006007952 \n",
      "\n",
      "solution.v:\n",
      " 0.422643 0.2674301 0.2006667 4.1447e-06 0.09688397 3.7798e-06 9.93279e-05 0.0004962464 0.002074942 0.009697799 \n",
      "\n",
      "solution.w:\n",
      " 0.1328972 0.6198883 3.33e-08 9.65e-08 5.69e-08 7.52e-08 1.48e-07 9.83e-08 3.1053e-06 8.36e-08 8.96e-08 6.89923e-05 0.1531963 5.35e-08 5.662e-07 6.61e-08 0.09394401 1.37e-07 5.62e-07 \n",
      "\n",
      "\n",
      "X1, X0, Z1, Z0 all come directly from dataprep object.\n",
      "\n",
      "\n",
      "**************** \n",
      " searching for synthetic control unit  \n",
      " \n",
      "\n",
      "**************** \n",
      "**************** \n",
      "**************** \n",
      "\n",
      "MSPE (LOSS V): 0.02403525 \n",
      "\n",
      "solution.v:\n",
      " 0.1131484 0.1004835 0.1455165 0.003488925 0.1220031 1.20192e-05 9.78891e-05 0.1343144 0.1449048 0.2360305 \n",
      "\n",
      "solution.w:\n",
      " 2.1e-09 3.4e-09 6e-10 1.9e-09 2.32e-08 3.227e-07 4.8157e-06 2.7e-09 3e-10 5.8e-09 5e-10 4.3e-09 0.1265265 6e-10 0 2.59e-08 0.2665769 8.76e-08 0.6068913 \n",
      "\n",
      "\n",
      "X1, X0, Z1, Z0 all come directly from dataprep object.\n",
      "\n",
      "\n",
      "**************** \n",
      " searching for synthetic control unit  \n",
      " \n",
      "\n",
      "**************** \n",
      "**************** \n",
      "**************** \n",
      "\n",
      "MSPE (LOSS V): 0.01586506 \n",
      "\n",
      "solution.v:\n",
      " 0.2400648 0.09670395 0.1059539 0.02631247 1.75841e-05 0.2655191 0.2255284 0.03944263 0.0001639318 0.0002931758 \n",
      "\n",
      "solution.w:\n",
      " 2.1e-09 0.04898119 1.8e-09 1.12e-08 1.2e-09 0.105323 1e-10 5e-10 8e-10 1.2e-09 1.2e-09 2.3e-09 0.1645478 1.3e-09 0.2366235 2.343e-07 0.4362108 9.52e-08 0.008313325 \n",
      "\n",
      "\n",
      "X1, X0, Z1, Z0 all come directly from dataprep object.\n",
      "\n",
      "\n",
      "**************** \n",
      " searching for synthetic control unit  \n",
      " \n",
      "\n",
      "**************** \n",
      "**************** \n",
      "**************** \n",
      "\n",
      "MSPE (LOSS V): 0.1353037 \n",
      "\n",
      "solution.v:\n",
      " 0.4830233 0.2858152 0.1663415 0.009423159 0.01831941 0.01952211 0.004744801 0.003917066 0.002500827 0.006392634 \n",
      "\n",
      "solution.w:\n",
      " 9e-10 2e-10 3e-10 4e-10 5e-10 4e-10 5e-10 5e-10 7e-10 4e-10 5e-10 7e-10 0.09451222 4e-10 4e-10 1.4e-09 0.9054878 7e-10 7e-10 \n",
      "\n",
      "\n",
      "X1, X0, Z1, Z0 all come directly from dataprep object.\n",
      "\n",
      "\n",
      "**************** \n",
      " searching for synthetic control unit  \n",
      " \n",
      "\n",
      "**************** \n",
      "**************** \n",
      "**************** \n",
      "\n",
      "MSPE (LOSS V): 0.003896032 \n",
      "\n",
      "solution.v:\n",
      " 0.1715145 0.02253307 0.343014 0.0007229985 0.002521562 3.077e-07 0.2381797 2.13128e-05 0.1053817 0.1161109 \n",
      "\n",
      "solution.w:\n",
      " 3.94e-08 8.2e-09 1.27e-08 2.05e-08 4.647e-07 3.07e-08 1.89e-08 1.68e-08 2.34e-08 7.44e-08 2.14e-08 3.81e-08 0.01672477 0.2628899 7.9e-09 2.85e-08 3.85e-08 2.78e-08 0.7203845 \n",
      "\n",
      "\n",
      "X1, X0, Z1, Z0 all come directly from dataprep object.\n",
      "\n",
      "\n",
      "**************** \n",
      " searching for synthetic control unit  \n",
      " \n",
      "\n",
      "**************** \n",
      "**************** \n",
      "**************** \n",
      "\n",
      "MSPE (LOSS V): 0.00321026 \n",
      "\n",
      "solution.v:\n",
      " 0.3713837 0.2173592 7.47414e-05 0.01187598 0.2697301 0.0001317277 0.04590835 0.01066009 0.04883304 0.02404311 \n",
      "\n",
      "solution.w:\n",
      " 6.217e-07 0.1426659 9.8e-08 2.982e-07 1.149e-07 1.581e-07 1.291e-07 1.293e-07 1.728e-07 1.118e-07 1.687e-07 2.966e-07 0.07540196 9.23e-08 1.6863e-06 4.881e-07 8.204e-07 2.9857e-06 0.7819237 \n",
      "\n"
     ]
    }
   ],
   "source": [
    "# Asumiendo que d es tu dataframe y ya está cargado\n",
    "\n",
    "# Definir los años\n",
    "year_t0 = 2000 # Año al inicio\n",
    "year_t1 = 2010 # Año antes del tratamiento\n",
    "year_t2 = 2015 # Año final\n",
    "\n",
    "# Lista de tratados\n",
    "lista_tratados = unique(d$WEO_CODE)\n",
    "\n",
    "# Preparar un dataframe para guardar los resultados\n",
    "resultados = data.frame()\n",
    "\n",
    "resultados_lista = list()\n",
    "\n",
    "# Bucle para cada país o código en la lista de tratados\n",
    "for (i in lista_tratados) {\n",
    "    # Definir variables para dataprep\n",
    "    # predictors_dp = c(\"DEBT_GDP\",\"EXP_GDP\")\n",
    "    # dependent_dp = \"DEBT_GDP\"\n",
    "    # id_variable = which(names(d) == \"WEO_CODE\")\n",
    "    # time_variable = which(names(d) == \"DATE\")\n",
    "    # special_predictors = list(list(\"REV_GDP\", year_t0:year_t1, c(\"mean\")))\n",
    "    # treated = i\n",
    "    # controls = setdiff(unique(d$WEO_CODE), treated)\n",
    "    # time_predictors = year_t0:year_t1\n",
    "    # time_ssr = year_t0:year_t1\n",
    "    # names_variable = which(names(d) == \"ISO3\")\n",
    "    # time_plot = year_t0:year_t2\n",
    "\n",
    "\n",
    "    predictors_dp       = c(\"DEBT_GDP\",\"EXP_GDP\")\n",
    "    dependent_dp        = \"DEBT_GDP\"\n",
    "    id_variable         = which(names(d) == \"WEO_CODE\")\n",
    "    time_variable       = which(names(d) == \"DATE\")\n",
    "\n",
    "    special_predictors  = list(list(\"REV_GDP\", year_t0:year_t1, c(\"mean\")),\n",
    "                            #    list(\"WGI_CONTR_CORR\", year_t0:year_t1, c(\"mean\")),\n",
    "                            #    list(\"WGI_GOV_EFFECT\", year_t0:year_t1, c(\"mean\")),\n",
    "                            #    list(\"WGI_POL_STAB\", year_t0:year_t1, c(\"mean\")),\n",
    "                            list(\"WGI_REG_QUAL\", year_t0:year_t1, c(\"mean\")),\n",
    "                            list(\"TRADE_OPEN\", year_t0:year_t1, c(\"mean\")),\n",
    "                            #     list(\"CONSUMPTION_PC\", year_t0:year_t1, c(\"mean\")),\n",
    "                                list(\"NET_FDI_GDP\", year_t0:year_t1, c(\"mean\")),\n",
    "                            #  list(\"BROAD_MONEY_GDP\", year_t0:year_t1, c(\"mean\")),\n",
    "                                list(\"LUR\", year_t0:year_t1, c(\"mean\")),\n",
    "                                list(\"CAP_RETURN\", year_t0:year_t1, c(\"mean\")),\n",
    "                            #  list(\"INT_RESERVES_CAP\", year_t0:year_t1, c(\"mean\")),\n",
    "                                list(\"INFLATION\", year_t0:year_t1, c(\"mean\")),\n",
    "                                # list(\"BANK_CRISIS\", year_t0:year_t1, c(\"mean\")),\n",
    "                                list(\"COMDEP\", year_t0:year_t1, c(\"mean\"))) #OTROS PREDICTORES (EN LA MEDIA)\n",
    "\n",
    "\n",
    "    # special_predictors  = list(list(\"REV_GDP\", year_t0:year_t1, c(\"mean\"))) #OTROS PREDICTORES (EN LA MEDIA)\n",
    "    treated             = i\n",
    "    controls            = setdiff(unique(d$WEO_CODE), treated) #EXLUYENDO AL TRATADO\n",
    "    time_predictors     = year_t0:year_t1\n",
    "    time_ssr            = year_t0:year_t1\n",
    "    names               = which(names(d) == \"ISO3\")\n",
    "    time_plot           = year_t0:year_t2\n",
    "\n",
    "\n",
    "\n",
    "    # Ejecutar dataprep\n",
    "    dataprep.out <- dataprep(\n",
    "        foo = d,\n",
    "        predictors = predictors_dp,\n",
    "        dependent = dependent_dp,\n",
    "        unit.variable = id_variable,\n",
    "        time.variable = time_variable,\n",
    "        special.predictors = special_predictors,\n",
    "        treatment.identifier = treated,\n",
    "        controls.identifier = controls,\n",
    "        time.predictors.prior = time_predictors,\n",
    "        time.optimize.ssr = time_ssr,\n",
    "        unit.names.variable = names_variable,\n",
    "        time.plot = time_plot\n",
    "    )\n",
    "\n",
    "    # Ejecutar synth\n",
    "    synth.out <- synth(\n",
    "        data.prep.obj = dataprep.out,\n",
    "        Margin.ipop = .005,\n",
    "        Sigf.ipop = 7,\n",
    "        Bound.ipop = 6\n",
    "    )\n",
    "\n",
    "    gap <- dataprep.out$Y1-(dataprep.out$Y0%*%synth.out$solution.w)\n",
    "\n",
    "    # Guardar los resultados\n",
    "    # Crear un dataframe temporal\n",
    "\n",
    "    nombre = as.character(i)\n",
    "\n",
    "    temp_df <- data.frame(nombre = gap)\n",
    "    \n",
    "    resultados_lista[[nombre]] <- temp_df\n",
    "\n",
    "}\n",
    "\n",
    "# Ver los resultados\n",
    "resultados <- do.call(cbind, resultados_lista)"
   ]
  },
  {
   "cell_type": "code",
   "execution_count": 77,
   "metadata": {
    "vscode": {
     "languageId": "r"
    }
   },
   "outputs": [],
   "source": [
    "pvalues = list() \n",
    "controles = setdiff(unique(names(resultados)), \"X293\")\n",
    "\n",
    "for (i in controles) {\n",
    "\n",
    "    r = as.numeric(resultados[[\"X293\"]]<resultados[[i]])\n",
    "    nombre = as.character(i)\n",
    "    temp_df <- data.frame(nombre = r)  \n",
    "    pvalues[[nombre]] <- temp_df\n",
    "\n",
    "}\n",
    "\n",
    "pvalues <- do.call(cbind, pvalues)\n",
    "colnames(pvalues) <- controles\n",
    "p_values_emp = 1- colSums(t(pvalues))/ncol(pvalues)"
   ]
  },
  {
   "cell_type": "code",
   "execution_count": 78,
   "metadata": {
    "vscode": {
     "languageId": "r"
    }
   },
   "outputs": [
    {
     "data": {
      "text/html": [
       "<ol class=list-inline>\n",
       "\t<li>0.736842105263158</li>\n",
       "\t<li>0.526315789473684</li>\n",
       "\t<li>0.210526315789474</li>\n",
       "\t<li>0.736842105263158</li>\n",
       "\t<li>0.736842105263158</li>\n",
       "\t<li>0.421052631578947</li>\n",
       "\t<li>0.421052631578947</li>\n",
       "\t<li>0.368421052631579</li>\n",
       "\t<li>0.526315789473684</li>\n",
       "\t<li>0.421052631578947</li>\n",
       "\t<li>0.421052631578947</li>\n",
       "\t<li>0.315789473684211</li>\n",
       "\t<li>0.315789473684211</li>\n",
       "\t<li>0.263157894736842</li>\n",
       "\t<li>0.210526315789474</li>\n",
       "\t<li>0.315789473684211</li>\n",
       "</ol>\n"
      ],
      "text/latex": [
       "\\begin{enumerate*}\n",
       "\\item 0.736842105263158\n",
       "\\item 0.526315789473684\n",
       "\\item 0.210526315789474\n",
       "\\item 0.736842105263158\n",
       "\\item 0.736842105263158\n",
       "\\item 0.421052631578947\n",
       "\\item 0.421052631578947\n",
       "\\item 0.368421052631579\n",
       "\\item 0.526315789473684\n",
       "\\item 0.421052631578947\n",
       "\\item 0.421052631578947\n",
       "\\item 0.315789473684211\n",
       "\\item 0.315789473684211\n",
       "\\item 0.263157894736842\n",
       "\\item 0.210526315789474\n",
       "\\item 0.315789473684211\n",
       "\\end{enumerate*}\n"
      ],
      "text/markdown": [
       "1. 0.736842105263158\n",
       "2. 0.526315789473684\n",
       "3. 0.210526315789474\n",
       "4. 0.736842105263158\n",
       "5. 0.736842105263158\n",
       "6. 0.421052631578947\n",
       "7. 0.421052631578947\n",
       "8. 0.368421052631579\n",
       "9. 0.526315789473684\n",
       "10. 0.421052631578947\n",
       "11. 0.421052631578947\n",
       "12. 0.315789473684211\n",
       "13. 0.315789473684211\n",
       "14. 0.263157894736842\n",
       "15. 0.210526315789474\n",
       "16. 0.315789473684211\n",
       "\n",
       "\n"
      ],
      "text/plain": [
       " [1] 0.7368421 0.5263158 0.2105263 0.7368421 0.7368421 0.4210526 0.4210526\n",
       " [8] 0.3684211 0.5263158 0.4210526 0.4210526 0.3157895 0.3157895 0.2631579\n",
       "[15] 0.2105263 0.3157895"
      ]
     },
     "metadata": {},
     "output_type": "display_data"
    }
   ],
   "source": [
    "p_values_emp"
   ]
  },
  {
   "cell_type": "markdown",
   "metadata": {},
   "source": [
    "Ratio RPMSE Post and Pre treatment"
   ]
  },
  {
   "cell_type": "code",
   "execution_count": 79,
   "metadata": {
    "vscode": {
     "languageId": "r"
    }
   },
   "outputs": [],
   "source": [
    "rmse <- function(x){sqrt(mean(x^2))}"
   ]
  },
  {
   "cell_type": "code",
   "execution_count": 82,
   "metadata": {
    "vscode": {
     "languageId": "r"
    }
   },
   "outputs": [
    {
     "data": {
      "text/html": [
       "<dl class=dl-horizontal>\n",
       "\t<dt>X213</dt>\n",
       "\t\t<dd>0.193826218269806</dd>\n",
       "\t<dt>X223</dt>\n",
       "\t\t<dd>0.0611973142288493</dd>\n",
       "\t<dt>X228</dt>\n",
       "\t\t<dd>0.160557646367397</dd>\n",
       "\t<dt>X233</dt>\n",
       "\t\t<dd>0.00973660247345846</dd>\n",
       "\t<dt>X238</dt>\n",
       "\t\t<dd>0.0131051110704865</dd>\n",
       "\t<dt>X248</dt>\n",
       "\t\t<dd>0.0807651001733466</dd>\n",
       "\t<dt>X268</dt>\n",
       "\t\t<dd>0.0954434558138238</dd>\n",
       "\t<dt>X273</dt>\n",
       "\t\t<dd>0.0237077976604233</dd>\n",
       "\t<dt>X283</dt>\n",
       "\t\t<dd>0.0356011343894374</dd>\n",
       "\t<dt>X288</dt>\n",
       "\t\t<dd>0.0838550013100424</dd>\n",
       "\t<dt>X293</dt>\n",
       "\t\t<dd>0.0245103597022144</dd>\n",
       "\t<dt>X298</dt>\n",
       "\t\t<dd>0.0565636289065356</dd>\n",
       "\t<dt>X311</dt>\n",
       "\t\t<dd>0.159652036419961</dd>\n",
       "\t<dt>X313</dt>\n",
       "\t\t<dd>0.0525043808291194</dd>\n",
       "\t<dt>X321</dt>\n",
       "\t\t<dd>0.0775109814210906</dd>\n",
       "\t<dt>X328</dt>\n",
       "\t\t<dd>0.155033059603155</dd>\n",
       "\t<dt>X343</dt>\n",
       "\t\t<dd>0.125956596041443</dd>\n",
       "\t<dt>X361</dt>\n",
       "\t\t<dd>0.367836447426575</dd>\n",
       "\t<dt>X362</dt>\n",
       "\t\t<dd>0.0624182022542134</dd>\n",
       "\t<dt>X364</dt>\n",
       "\t\t<dd>0.0566591605268501</dd>\n",
       "</dl>\n"
      ],
      "text/latex": [
       "\\begin{description*}\n",
       "\\item[X213] 0.193826218269806\n",
       "\\item[X223] 0.0611973142288493\n",
       "\\item[X228] 0.160557646367397\n",
       "\\item[X233] 0.00973660247345846\n",
       "\\item[X238] 0.0131051110704865\n",
       "\\item[X248] 0.0807651001733466\n",
       "\\item[X268] 0.0954434558138238\n",
       "\\item[X273] 0.0237077976604233\n",
       "\\item[X283] 0.0356011343894374\n",
       "\\item[X288] 0.0838550013100424\n",
       "\\item[X293] 0.0245103597022144\n",
       "\\item[X298] 0.0565636289065356\n",
       "\\item[X311] 0.159652036419961\n",
       "\\item[X313] 0.0525043808291194\n",
       "\\item[X321] 0.0775109814210906\n",
       "\\item[X328] 0.155033059603155\n",
       "\\item[X343] 0.125956596041443\n",
       "\\item[X361] 0.367836447426575\n",
       "\\item[X362] 0.0624182022542134\n",
       "\\item[X364] 0.0566591605268501\n",
       "\\end{description*}\n"
      ],
      "text/markdown": [
       "X213\n",
       ":   0.193826218269806X223\n",
       ":   0.0611973142288493X228\n",
       ":   0.160557646367397X233\n",
       ":   0.00973660247345846X238\n",
       ":   0.0131051110704865X248\n",
       ":   0.0807651001733466X268\n",
       ":   0.0954434558138238X273\n",
       ":   0.0237077976604233X283\n",
       ":   0.0356011343894374X288\n",
       ":   0.0838550013100424X293\n",
       ":   0.0245103597022144X298\n",
       ":   0.0565636289065356X311\n",
       ":   0.159652036419961X313\n",
       ":   0.0525043808291194X321\n",
       ":   0.0775109814210906X328\n",
       ":   0.155033059603155X343\n",
       ":   0.125956596041443X361\n",
       ":   0.367836447426575X362\n",
       ":   0.0624182022542134X364\n",
       ":   0.0566591605268501\n",
       "\n"
      ],
      "text/plain": [
       "       X213        X223        X228        X233        X238        X248 \n",
       "0.193826218 0.061197314 0.160557646 0.009736602 0.013105111 0.080765100 \n",
       "       X268        X273        X283        X288        X293        X298 \n",
       "0.095443456 0.023707798 0.035601134 0.083855001 0.024510360 0.056563629 \n",
       "       X311        X313        X321        X328        X343        X361 \n",
       "0.159652036 0.052504381 0.077510981 0.155033060 0.125956596 0.367836447 \n",
       "       X362        X364 \n",
       "0.062418202 0.056659161 "
      ]
     },
     "metadata": {},
     "output_type": "display_data"
    }
   ],
   "source": [
    "preloss"
   ]
  },
  {
   "cell_type": "code",
   "execution_count": 81,
   "metadata": {
    "vscode": {
     "languageId": "r"
    }
   },
   "outputs": [
    {
     "data": {
      "image/png": "[encoded data removed]",
      "text/plain": [
       "plot without title"
      ]
     },
     "metadata": {},
     "output_type": "display_data"
    }
   ],
   "source": [
    "anios <- rownames(resultados)\n",
    "t0 <- which(anios == year_t0)\n",
    "t1 <- which(anios == year_t1)\n",
    "t2 <- which(anios == year_t2)\n",
    "\n",
    "\n",
    "\n",
    "preloss  <- apply(resultados[t0:t1,],2,rmse)\n",
    "postloss <- apply(resultados[t0:t2,],2,rmse)\n",
    "\n",
    "dotchart(sort(postloss/preloss),\n",
    "         xlab=\"Post-Period RMSE / Pre-Period RMSE\",\n",
    "         pch=19)\n"
   ]
  },
  {
   "cell_type": "code",
   "execution_count": null,
   "metadata": {
    "vscode": {
     "languageId": "r"
    }
   },
   "outputs": [],
   "source": [
    "special_predictors  = list(list(\"REV_GDP\", year_t0:year_t1, c(\"mean\")),\n",
    "                        #    list(\"WGI_CONTR_CORR\", year_t0:year_t1, c(\"mean\")),\n",
    "                        #    list(\"WGI_GOV_EFFECT\", year_t0:year_t1, c(\"mean\")),\n",
    "                        #    list(\"WGI_POL_STAB\", year_t0:year_t1, c(\"mean\")),\n",
    "                           # list(\"WGI_REG_QUAL\", year_t0:year_t1, c(\"mean\")),\n",
    "                           list(\"TRADE_OPEN\", year_t0:year_t1, c(\"mean\")),\n",
    "                        #     list(\"CONSUMPTION_PC\", year_t0:year_t1, c(\"mean\")),\n",
    "                            list(\"NET_FDI_GDP\", year_t0:year_t1, c(\"mean\")),\n",
    "                           #  list(\"BROAD_MONEY_GDP\", year_t0:year_t1, c(\"mean\")),\n",
    "                            list(\"LUR\", year_t0:year_t1, c(\"mean\")),\n",
    "                            list(\"CAP_RETURN\", year_t0:year_t1, c(\"mean\")),\n",
    "                           #  list(\"INT_RESERVES_CAP\", year_t0:year_t1, c(\"mean\")),\n",
    "                            list(\"INFLATION\", year_t0:year_t1, c(\"mean\"))\n",
    "                           #  list(\"POB\", year_t0:year_t1, c(\"mean\"))\n",
    "                           #  list(\"POP\", year_t0:year_t1, c(\"mean\"))\n",
    "                           #  list(\"COMDEP\", year_t0:year_t1, c(\"mea"
   ]
  }
 ],
 "metadata": {
  "kernelspec": {
   "display_name": "R",
   "language": "R",
   "name": "ir"
  },
  "language_info": {
   "codemirror_mode": "r",
   "file_extension": ".r",
   "mimetype": "text/x-r-source",
   "name": "R",
   "pygments_lexer": "r",
   "version": "3.6.1"
  }
 },
 "nbformat": 4,
 "nbformat_minor": 2
}
